{
 "cells": [
  {
   "cell_type": "markdown",
   "metadata": {},
   "source": [
    "### Jupyter Notebook Eksempel – KI-agenter med CrewAI for eHjerteRehab\n",
    "\n",
    "- A.L. 2025-05-23 (using the `hjerterehab` conda environment defined in big_environment.yml)\n",
    "\n",
    "- A.L. 2025-05-25 (rename to eHjerteRehab.ipynb) using `ehjerterehab_crew_env` conda environment defined below"
   ]
  },
  {
   "cell_type": "markdown",
   "metadata": {},
   "source": [
    "```bash\n",
    "# Create a simple conda environment first\n",
    "conda create -n ehjerterehab_crew_env python=3.12 -y\n",
    "conda activate ehjerterehab_crew_env\n",
    "\n",
    "# Install packages individually with version constraints\n",
    "pip install \"crewai>=0.28.0\"\n",
    "pip install \"crewai-tools>=0.4.0\" \n",
    "pip install \"langchain-google-genai>=1.0.0\"\n",
    "pip install \"python-dotenv>=1.0.0\"\n",
    "pip install \"jupyter>=1.0\"\n",
    "\n",
    "# pip install --upgrade langchain-google-genai\n",
    "```"
   ]
  },
  {
   "cell_type": "markdown",
   "metadata": {},
   "source": [
    "**Formål:** Å demonstrere konseptuelt hvordan et team av KI-agenter kan samarbeide om en oppgave relevant for persontilpasset rehabilitering i eHjerteRehab, ved bruk av rammeverket CrewAI. Dette eksempelet er forenklet og bruker simulerte data for illustrative formål."
   ]
  },
  {
   "cell_type": "markdown",
   "metadata": {},
   "source": [
    "### CrewAI Demo: Persontilpasset Aktivitetsforslag for eHjerteRehab\n",
    "\n",
    "**Formål:** Dette Jupyter Notebook-eksempelet demonstrerer hvordan et team av spesialiserte KI-agenter, bygget med CrewAI, kan samarbeide for å analysere en (simulert) pasientprofil og generere persontilpassede aktivitetsforslag med en påfølgende etisk vurdering. Dette illustrerer en potensiell anvendelse av KI for å støtte persontilpasning i eHjerteRehab.\n",
    "\n",
    "**Scenario:**\n",
    "\n",
    "1. En `DataFortolkerAgent` analyserer en pasientprofil for å identifisere nøkkelinnsikter.\n",
    "\n",
    "2. En `AktivitetsDesignerAgent` bruker disse innsiktene til å foreslå rehabiliteringsaktiviteter.\n",
    "\n",
    "3. En `EtikkOgSamsvarsAgent` vurderer forslagene fra et etisk og ansvarlig perspektiv.\n",
    "\n",
    "**Merk**: Dette er en konseptuell demonstrasjon og bruker ikke reelle pasientdata eller avanserte medisinske verktøy."
   ]
  },
  {
   "cell_type": "markdown",
   "metadata": {},
   "source": [
    "### Hvorfor CrewAI for denne demonstrasjonen?\n",
    "\n",
    "Valget av CrewAI  for denne demonstrasjonen er strategisk. eHjerteRehab-prosjektet er i seg selv et multimodalt og tverrfaglig initiativ med mange aktører. CrewAI tillater oss å speile denne tverrfaglige samarbeidsmodellen i en KI-arkitektur. \n",
    "  \n",
    "\n",
    "- **Spesialiserte Agenter**: I stedet for en enkelt, monolitisk KI (som kan oppleves som en \"svart boks\"), lar CrewAI oss definere agenter med distinkte roller, mål og bakgrunnshistorier. Dette kan sammenlignes med hvordan ulike fageksperter (kardiolog, fysioterapeut, psykolog, etiker) samarbeider i helsevesenet.\n",
    "\n",
    "- **Transparent Prosess**: Ved å observere interaksjonen mellom agentene, blir KI-prosessen potensielt mer transparent og forståelig. Man kan se hvordan ulike \"ekspertiser\" (simulert av agentene) bidrar til det endelige resultatet.\n",
    "\n",
    "- **Tilgjengeliggjøring av KI**: En slik agentbasert tilnærming kan gjøre KI-konsepter mer tilgjengelige og mindre truende for helsepersonell og andre interessenter, da det bygger på kjente prinsipper for teamarbeid og ansvarsdeling. Dette er i tråd med eHjerteRehabs mål om å modernisere og digitalisere arbeidsprosesser på en forståelig måte."
   ]
  },
  {
   "cell_type": "markdown",
   "metadata": {},
   "source": [
    "### Oppsett av Miljøet\n",
    "\n",
    "For å kjøre dette eksempelet, trenger du:\n",
    "\n",
    "1. Python 3.10 eller nyere.\n",
    "\n",
    "2. CrewAI og nødvendige avhengigheter installert (`pip install crewai crewai-tools`).\n",
    "\n",
    "3. En API-nøkkel for en stor språkmodell (LLM), f.eks. fra OpenAI, satt som en miljøvariabel (`OPENAI_API_KEY`). For Helse Bergen-kontekst, vil man typisk bruke sikrede, godkjente modeller og plattformer.\n",
    "\n",
    "Vi starter med å importere nødvendige biblioteker og laste miljøvariabler (hvis du bruker en \n",
    "`.env`-fil)."
   ]
  },
  {
   "cell_type": "markdown",
   "metadata": {},
   "source": [
    "###  Importering og Miljøvariabler"
   ]
  },
  {
   "cell_type": "code",
   "execution_count": 1,
   "metadata": {},
   "outputs": [],
   "source": [
    "import os\n",
    "from dotenv import load_dotenv\n",
    "from crewai import Agent, Task, Crew, Process\n",
    "# from langchain_openai import ChatOpenAI # Kan aktiveres for spesifikk modellstyring\n",
    "\n",
    "# Last miljøvariabler fra.env-filen (hvis den finnes)\n",
    "load_dotenv()\n",
    "\n",
    "# Sett opp API-nøkkel og eventuelt modellnavn\n",
    "# Dette hentes typisk fra miljøvariabler for sikkerhetens skyld\n",
    "# os.environ[\"OPENAI_API_KEY\"] = \"DIN_API_NØKKEL_HER\" # Bør settes i.env\n",
    "# os.environ = \"gpt-4-turbo\" # Eksempel, velg modell etter behov/tilgang\n",
    "\n",
    "# For demonstrasjonens skyld, hvis OPENAI_API_KEY ikke er satt, kan man\n",
    "# legge inn en påminnelse eller stoppe kjøringen.\n",
    "# I et produksjonsmiljø i helsevesenet ville tilgang og autentisering\n",
    "# vært håndtert via sikre, godkjente systemer.\n",
    "\n",
    "if not os.getenv(\"OPENAI_API_KEY\"):\n",
    "    print(\"ADVARSEL: OPENAI_API_KEY er ikke satt som miljøvariabel.\")\n",
    "    print(\"Eksempelet vil sannsynligvis feile uten API-tilgang til en LLM.\")\n",
    "    # For en reell kjøring, ville man her kanskje avsluttet eller brukt en fallback."
   ]
  },
  {
   "cell_type": "markdown",
   "metadata": {},
   "source": [
    "### Agentdefinisjoner – Vårt KI-Team\n",
    "\n",
    "Vi definerer nå våre tre KI-agenter. Hver agent får en spesifikk `role` (rolle), et `goal` (mål), og en `backstory` (bakgrunnshistorie). Disse elementene er ikke bare beskrivende; de fungerer som avanserte instrukser (prompts) som former hvordan LLM-en utfører agentens oppgaver. \n",
    "\n",
    "En velutformet `backstory` er avgjørende for å instruere LLM-en til å adoptere en spesifikk faglig identitet og tilnærming, noe som direkte påvirker kvaliteten og relevansen av agentens output. Dette er spesielt viktig i spesialiserte domener som helse.   \n",
    "\n",
    "Vi setter `verbose=True` for å kunne følge agentenes \"tankeprosess\" under kjøring. `allow_delegation=False` betyr at agentene ikke kan delegere oppgaver til andre agenter i dette enkle scenarioet."
   ]
  },
  {
   "cell_type": "markdown",
   "metadata": {},
   "source": [
    "### Agent 1 - DataFortolkerAgent\n",
    "\n",
    "Denne agenten vil 'lese' pasientprofilen og trekke ut det viktigste for tilpasning, med referanser til relevante arbeidspakker i eHjerteRehab."
   ]
  },
  {
   "cell_type": "code",
   "execution_count": 3,
   "metadata": {},
   "outputs": [],
   "source": [
    "data_fortolker_agent = Agent(\n",
    "    role='Senior HelseData Analytiker for Hjerterehabilitering',\n",
    "    goal=('Analysere en simulert pasientprofil for å identifisere 3-5 nøkkelinnsikter som er kritiske '\n",
    "          'for å skreddersy en digital rehabiliteringsplan. Fokusere på motivasjonsfaktorer, '\n",
    "          'potensielle barrierer, og individuelle preferanser.'),\n",
    "    backstory=(\n",
    "        \"Du er en erfaren dataanalytiker med doktorgrad i medisinsk informatikk, spesialisert på å \"\n",
    "        \"utlede handlingsrettet innsikt fra pasientdata innen kardiologi. Din ekspertise ligger i å \"\n",
    "        \"identifisere subtile mønstre som kan forbedre persontilpasset behandling og pasientengasjement i \"\n",
    "        \"digitale helseprogrammer som eHjerteRehab. Du er grundig, nøyaktig og opptatt av personvern, \"\n",
    "        \"og du forstår viktigheten av å vurdere faktorer som komorbiditet (jf. eHjerteRehab WP1.3) \"\n",
    "        \"og mental helse (jf. eHjerteRehab WP1.4) i din analyse.[1]\"\n",
    "    ),\n",
    "    verbose=True,\n",
    "    allow_delegation=False\n",
    ")"
   ]
  },
  {
   "cell_type": "markdown",
   "metadata": {},
   "source": [
    "### Agent 2 - AktivitetsDesignerAgent\n",
    "\n",
    "Denne agenten tar innsiktene og omgjør dem til konkrete aktivitetsforslag, med tanke på engasjement og helsekompetanse."
   ]
  },
  {
   "cell_type": "code",
   "execution_count": 4,
   "metadata": {},
   "outputs": [],
   "source": [
    "aktivitets_designer_agent = Agent(\n",
    "    role='Innovativ Rehabiliteringsspesialist med fokus på Digitalt Engasjement',\n",
    "    goal=('Basert på innsiktene fra DataFortolkerAgent, utvikle 2-3 konkrete, kreative og motiverende '\n",
    "          'forslag til persontilpassede rehabiliteringsaktiviteter for eHjerteRehab. Aktivitetene skal '\n",
    "          'være gjennomførbare hjemme og tilpasset pasientens antatte fysiske og mentale kapasitet.'),\n",
    "    backstory=(\n",
    "        \"Du er en fysioterapeut og rehabiliteringsforsker med en lidenskap for å integrere teknologi \"\n",
    "        \"og spillifisering i helsefremmende arbeid. Du har jobbet tett med utviklingen av eHjerteRehab \"\n",
    "        \"og forstår viktigheten av å gjøre rehabilitering både effektiv og engasjerende, samtidig som \"\n",
    "        \"du tar hensyn til pasientens helsekompetanse (jf. eHjerteRehab WP2.2).[1] Ditt mål er \"\n",
    "        \"å 'tenne gnisten' hos pasienten gjennom skreddersydde og motiverende aktiviteter.\"\n",
    "    ),\n",
    "    verbose=True,\n",
    "    allow_delegation=False\n",
    ")"
   ]
  },
  {
   "cell_type": "markdown",
   "metadata": {},
   "source": [
    "### Agent 3 - EtikkOgSamsvarsAgent\n",
    "\n",
    "Denne agenten fungerer som en 'etisk vokter' for å sikre ansvarlig praksis, i tråd med eHjerteRehabs WP2.5 Etikk"
   ]
  },
  {
   "cell_type": "code",
   "execution_count": 5,
   "metadata": {},
   "outputs": [],
   "source": [
    "etikk_og_samsvars_agent = Agent(\n",
    "    role='Ekspert på Medisinsk Etikk og Ansvarlig KI i Helsevesenet',\n",
    "    goal=('Kritisk vurdere de foreslåtte rehabiliteringsaktivitetene fra AktivitetsDesignerAgent. '\n",
    "          'Sikre at forslagene er i tråd med etiske retningslinjer for eHjerteRehab (jf. WP2.5 Etikk [1]), '\n",
    "          'respekterer pasientautonomi, unngår utilsiktet bias, og ivaretar personvern. '\n",
    "          'Gi konkret tilbakemelding og eventuelle justeringsforslag.'),\n",
    "    backstory=(\n",
    "        \"Du er en etiker med juridisk bakgrunn og spesialkompetanse på GDPR og KI-regulering i helsesektoren. \"\n",
    "        \"Du er tilknyttet eHjerteRehabs ekspertgruppe og Scientific Advisory Board [1] \"\n",
    "        \"og har som hovedoppgave å sikre at alle digitale intervensjoner er \"\n",
    "        \"etisk forsvarlige, rettferdige og trygge for pasientene. Du er grundig og prinsippfast, \"\n",
    "        \"men også løsningsorientert, og legger vekt på kontinuitet i helsetjenesten (jf. eHjerteRehab WP2.1).[1]\"\n",
    "    ),\n",
    "    verbose=True,\n",
    "    allow_delegation=False\n",
    ")"
   ]
  },
  {
   "cell_type": "markdown",
   "metadata": {},
   "source": [
    "### Oppgavedefinisjoner – Hva Skal Agentene Gjøre?\n",
    "\n",
    "Nå definerer vi oppgavene (Task) som agentene skal utføre. Hver oppgave har en description (beskrivelse av hva som skal gjøres), en expected_output (forventet format og innhold på resultatet), og tildeles en agent.   \n",
    "\n",
    "Å definere expected_output tydelig er kritisk. Det styrer agentens atferd og sikrer at outputen er strukturert og anvendelig for påfølgende oppgaver eller for menneskelig tolkning. Dette reduserer \"støy\" og øker effektiviteten i agent-samarbeidet.\n",
    "\n",
    "Vi vil bruke en fiktiv, men relevant, pasientprofil som input til den første oppgaven.\n"
   ]
  },
  {
   "cell_type": "markdown",
   "metadata": {},
   "source": [
    "### Fiktiv Pasientprofil for \"Ola Nordmann\" (67 år)\n",
    "\n",
    "- Medisinsk Historikk: Gjennomgått PCI for 3 uker siden etter et hjerteinfarkt. Har også kjent hypertensjon og diabetes type 2 (moderat regulert). Lett overvektig.\n",
    "\n",
    "- Livsstil: Stillesittende kontorjobb før pensjonsalder (nylig pensjonert). Røyket tidligere, men sluttet for 5 år siden. Moderat alkoholforbruk i helgene. Bor alene i enebolig med hage, et stykke utenfor sentrum.\n",
    "\n",
    "- Psykososialt: Uttrykker bekymring for fremtiden og er redd for nytt infarkt. Føler seg litt isolert etter pensjonering. Motivasjon for trening er \"så som så\", men han liker å være ute i naturen og \"pusle med ting\". Teknologisk kompetanse: Bruker smarttelefon og nettbrett til enkle ting (nyheter, e-post), men er ikke veldig dreven.\n",
    "\n",
    "- Rehabiliteringsmål (fra samtale): Ønsker å \"komme i bedre form\", \"føle seg tryggere\", og \"ha noe meningsfylt å gjøre\".\n",
    "\n",
    "Denne profilen gir nok detaljer til at agentene kan jobbe med den. I eHjerteRehab vil reelle data være mer omfattende og dynamiske.   \n",
    "\n"
   ]
  },
  {
   "cell_type": "markdown",
   "metadata": {},
   "source": [
    "### Oppgave 1 - AnalyserPasientprofil\n"
   ]
  },
  {
   "cell_type": "code",
   "execution_count": 6,
   "metadata": {},
   "outputs": [],
   "source": [
    "pasientprofil_tekst = \"\"\"\n",
    "Medisinsk Historikk: Gjennomgått PCI for 3 uker siden etter et hjerteinfarkt. Har også kjent hypertensjon og diabetes type 2 (moderat regulert). Lett overvektig.\n",
    "Livsstil: Stillesittende kontorjobb før pensjonsalder (nylig pensjonert). Røyket tidligere, men sluttet for 5 år siden. Moderat alkoholforbruk i helgene. Bor alene i enebolig med hage, et stykke utenfor sentrum.\n",
    "Psykososialt: Uttrykker bekymring for fremtiden og er redd for nytt infarkt. Føler seg litt isolert etter pensjonering. Motivasjon for trening er \"så som så\", men han liker å være ute i naturen og \"pusle med ting\". Teknologisk kompetanse: Bruker smarttelefon og nettbrett til enkle ting (nyheter, e-post), men er ikke veldig dreven.\n",
    "Rehabiliteringsmål (fra samtale): Ønsker å \"komme i bedre form\", \"føle seg tryggere\", og \"ha noe meningsfylt å gjøre\".\n",
    "\"\"\"\n",
    "\n",
    "task_analyser_profil = Task(\n",
    "    description=(f\"Analyser følgende simulerte pasientprofil for 'Ola Nordmann' (67 år):\\n\\n{pasientprofil_tekst}\\n\\n\"\n",
    "                 \"Identifiser 3-5 nøkkelinnsikter som er avgjørende for å persontilpasse hans eHjerteRehab-program. \"\n",
    "                 \"Fokuser på motivasjonsdrivere, potensielle barrierer (fysiske, psykososiale, teknologiske), \"\n",
    "                 \"og hans uttrykte mål og preferanser. Vurder spesielt hans komorbiditeter (hypertensjon, diabetes) \"\n",
    "                 \"og hvordan disse kan påvirke rehabiliteringsplanen, i tråd med fokus i eHjerteRehab WP1.3.[1]\"),\n",
    "    expected_output=(\"En punktliste med 3-5 klare og konsise nøkkelinnsikter, hver med en kort begrunnelse. \"\n",
    "                     \"Innsiktene skal være direkte anvendbare for neste agent som skal designe aktiviteter.\"),\n",
    "    agent=data_fortolker_agent\n",
    ")"
   ]
  },
  {
   "cell_type": "markdown",
   "metadata": {},
   "source": [
    "### Oppgave 2 - UtformAktivitetsforslag\n",
    "\n",
    "Bruken av `context=[task_analyser_profil]`  er fundamental. Det skaper en logisk arbeidsflyt der `AktivitetsDesignerAgent` bygger direkte på arbeidet til `DataFortolkerAgent`. Dette simulerer informasjonsdeling i et team og er kjernen i hvordan CrewAI muliggjør samarbeid."
   ]
  },
  {
   "cell_type": "code",
   "execution_count": 7,
   "metadata": {},
   "outputs": [],
   "source": [
    "task_utform_aktiviteter = Task(\n",
    "    description=(\"Basert på nøkkelinnsiktene fra analysen av Ola Nordmanns pasientprofil (levert som kontekst), \"\n",
    "                 \"utvikle 2-3 konkrete, persontilpassede og motiverende aktivitetselementer for hans eHjerteRehab-program. \"\n",
    "                 \"Aktivitetene bør være trygge med tanke på hans medisinske historikk (PCI, hypertensjon, diabetes). \"\n",
    "                 \"Inkluder en kort begrunnelse for hvert forslag som knytter det til pasientens profil (f.eks. hans interesse for natur, \"\n",
    "                 \"behov for trygghet, teknologiske ferdigheter – husk eHjerteRehabs fokus på brukervennlighet og tilpasset informasjon [1]).\"),\n",
    "    expected_output=(\"En liste med 2-3 detaljerte aktivitetselementer. Hvert element skal inneholde: \\n\"\n",
    "                     \"1. Navn på aktiviteten.\\n\"\n",
    "                     \"2. En kort, engasjerende beskrivelse av aktiviteten.\\n\"\n",
    "                     \"3. En begrunnelse for hvorfor denne aktiviteten passer for Ola, med referanse til hans profil.\\n\"\n",
    "                     \"4. Eventuelle forslag til enkel teknologisk støtte (f.eks. påminnelser på telefon, enkel app-funksjon \"\n",
    "                     \"som er i tråd med eHjerteRehabs teknologiske plattform [1]).\"),\n",
    "    agent=aktivitets_designer_agent,\n",
    "    context=[task_analyser_profil]  # Output fra forrige task blir input her\n",
    ")\n"
   ]
  },
  {
   "cell_type": "markdown",
   "metadata": {},
   "source": [
    "###  Oppgave 3 - EtiskVurderingAvForslag"
   ]
  },
  {
   "cell_type": "code",
   "execution_count": 8,
   "metadata": {},
   "outputs": [],
   "source": [
    "task_etisk_vurdering = Task(\n",
    "    description=(\"Gjennomgå de foreslåtte rehabiliteringsaktivitetene for Ola Nordmann (levert som kontekst). \"\n",
    "                 \"Vurder dem kritisk i lys av prinsipper for ansvarlig KI og medisinsk etikk, spesielt med tanke på: \\n\"\n",
    "                 \"- Pasientautonomi og informert samtykke (selv om dette er simulert).\\n\"\n",
    "                 \"- Potensial for utilsiktet bias eller diskriminering (jf. eHjerteRehabs mål om å nå underrepresenterte grupper [1]).\\n\"\n",
    "                 \"- Personvernsaspekter ved datainnsamling knyttet til aktivitetene (eHjerteRehab bruker BankID og sikker kommunikasjon [1]).\\n\"\n",
    "                 \"- Rettferdighet og likeverdighet i tilbudet.\\n\"\n",
    "                 \"- Sikkerhet og potensiell risiko for pasienten (fysisk og psykisk).\\n\"\n",
    "                 \"Dette arbeidet speiler intensjonen bak eHjerteRehabs WP2.5 Etikk.[1] \"\n",
    "                 \"Gi en konkret tilbakemelding. Hvis det er etiske betenkeligheter, foreslå justeringer eller forbehold.\"),\n",
    "    expected_output=(\"En strukturert rapport som inneholder:\\n\"\n",
    "                     \"1. En overordnet etisk vurdering av aktivitetsforslagene.\\n\"\n",
    "                     \"2. Identifisering av eventuelle etiske dilemmaer eller risikofaktorer.\\n\"\n",
    "                     \"3. Konkrete anbefalinger for å styrke den etiske forsvarligheten av forslagene, om nødvendig.\\n\"\n",
    "                     \"4. En konklusjon om hvorvidt forslagene, med eventuelle justeringer, er etisk akseptable for \"\n",
    "                     \"bruk i en eHjerteRehab-kontekst.\"),\n",
    "    agent=etikk_og_samsvars_agent,\n",
    "    context=[task_utform_aktiviteter]\n",
    ")"
   ]
  },
  {
   "cell_type": "markdown",
   "metadata": {},
   "source": [
    "###  Sette Sammen og Kjøre Crewet\n",
    "\n",
    "Nå setter vi sammen agentene og oppgavene i et `Crew`. Et `Crew` representerer den operasjonelle enheten som orkestrerer agentenes arbeid.\n",
    "Vi spesifiserer `process=Process.sequential`, som betyr at oppgavene utføres i den rekkefølgen de er listet.\n",
    "Deretter starter vi prosessen med `kickoff()`.   \n",
    "\n",
    "Innstillingen `verbose=True` er spesielt nyttig under utvikling og for demonstrasjoner som denne. Den gir detaljert innsyn i agentenes \"indre liv\" – deres resonnement, hvilke (potensielle) verktøy de vurderer, og hvordan de tolker oppgavene sine. Denne transparensen er verdifull for feilsøking, forbedring av agentdesign, og for å bygge forståelse for hvordan systemet fungerer. For et publikum bestående av helsepersonell og forskere, kan det å vise utdrag av slik verbose output være svært pedagogisk for å avmystifisere KI."
   ]
  },
  {
   "cell_type": "markdown",
   "metadata": {},
   "source": [
    "### Definere og Kjøre Crewet"
   ]
  },
  {
   "cell_type": "code",
   "execution_count": 9,
   "metadata": {},
   "outputs": [
    {
     "name": "stdout",
     "output_type": "stream",
     "text": [
      "Starter eHjerteRehab Crew...\n",
      "\n",
      "\u001b[1m\u001b[95m# Agent:\u001b[00m \u001b[1m\u001b[92mSenior HelseData Analytiker for Hjerterehabilitering\u001b[00m\n",
      "\u001b[95m## Task:\u001b[00m \u001b[92mAnalyser følgende simulerte pasientprofil for 'Ola Nordmann' (67 år):\n",
      "\n",
      "\n",
      "Medisinsk Historikk: Gjennomgått PCI for 3 uker siden etter et hjerteinfarkt. Har også kjent hypertensjon og diabetes type 2 (moderat regulert). Lett overvektig.\n",
      "Livsstil: Stillesittende kontorjobb før pensjonsalder (nylig pensjonert). Røyket tidligere, men sluttet for 5 år siden. Moderat alkoholforbruk i helgene. Bor alene i enebolig med hage, et stykke utenfor sentrum.\n",
      "Psykososialt: Uttrykker bekymring for fremtiden og er redd for nytt infarkt. Føler seg litt isolert etter pensjonering. Motivasjon for trening er \"så som så\", men han liker å være ute i naturen og \"pusle med ting\". Teknologisk kompetanse: Bruker smarttelefon og nettbrett til enkle ting (nyheter, e-post), men er ikke veldig dreven.\n",
      "Rehabiliteringsmål (fra samtale): Ønsker å \"komme i bedre form\", \"føle seg tryggere\", og \"ha noe meningsfylt å gjøre\".\n",
      "\n",
      "\n",
      "Identifiser 3-5 nøkkelinnsikter som er avgjørende for å persontilpasse hans eHjerteRehab-program. Fokuser på motivasjonsdrivere, potensielle barrierer (fysiske, psykososiale, teknologiske), og hans uttrykte mål og preferanser. Vurder spesielt hans komorbiditeter (hypertensjon, diabetes) og hvordan disse kan påvirke rehabiliteringsplanen, i tråd med fokus i eHjerteRehab WP1.3.[1]\u001b[00m\n",
      "\n",
      "\n",
      "\u001b[1m\u001b[95m# Agent:\u001b[00m \u001b[1m\u001b[92mSenior HelseData Analytiker for Hjerterehabilitering\u001b[00m\n",
      "\u001b[95m## Final Answer:\u001b[00m \u001b[92m\n",
      "1. **Fokus på utendørsaktiviteter**: Ola har uttrykt en preferanse for å være ute og \"pusle med ting\". Å integrere aktiviteter som hagearbeid, spaserturer i naturen, eller utendørs trening i rehabiliteringsplanen kan øke hans motivasjon og engasjement, samtidig som han får mosjon.\n",
      "\n",
      "2. **Gradvis tilnærming til trening**: Gitt Ola's moderat regulerte diabetes og hypertensjon, er det viktig å utvikle et skreddersydd, gradvis treningsprogram som tar hensyn til hans medfølgende helsetilstander. Dette vil ikke bare bidra til fysisk helse, men også redusere angsten for å oppleve nye helseproblemer.\n",
      "\n",
      "3. **Psykososial støtte for å redusere isolasjon**: Ola føler seg isolert etter pensjoneringen. Å inkludere elementer i eHjerteRehab-programmet som fremmer sosial interaksjon, for eksempel gruppetrening eller digitale møter med andre pasienter, kan bidra til å redusere hans følelser av ensomhet og forbedre hans mentale helse.\n",
      "\n",
      "4. **Tilpasset teknologisk støtte**: Ola har begrenset teknologisk kompetanse. Det er viktig å tilby brukervennlige digitale verktøy og opplæring for å hjelpe ham med å navigere i eHjerteRehab. Dette kan inkludere enkle videoopplæringer, brukervennlige applikasjoner og støtte fra helsepersonell.\n",
      "\n",
      "5. **Målrettet motivasjon for funnige aktiviteter**: For å øke Ola's motivasjon, bør rehabiliteringsplanen inkludere meningsfylte aktiviteter som han kan relatere til og som bidrar til hans mål om å \"føle seg tryggere\" og \"komme i bedre form\". En kombinasjon av målrettede treningsøkter med gøyale og engasjerende aktiviteter kan være avgjørende for å opprettholde hans engasjement over tid.\u001b[00m\n",
      "\n",
      "\n",
      "\u001b[1m\u001b[95m# Agent:\u001b[00m \u001b[1m\u001b[92mInnovativ Rehabiliteringsspesialist med fokus på Digitalt Engasjement\u001b[00m\n",
      "\u001b[95m## Task:\u001b[00m \u001b[92mBasert på nøkkelinnsiktene fra analysen av Ola Nordmanns pasientprofil (levert som kontekst), utvikle 2-3 konkrete, persontilpassede og motiverende aktivitetselementer for hans eHjerteRehab-program. Aktivitetene bør være trygge med tanke på hans medisinske historikk (PCI, hypertensjon, diabetes). Inkluder en kort begrunnelse for hvert forslag som knytter det til pasientens profil (f.eks. hans interesse for natur, behov for trygghet, teknologiske ferdigheter – husk eHjerteRehabs fokus på brukervennlighet og tilpasset informasjon [1]).\u001b[00m\n",
      "\n",
      "\n",
      "\u001b[1m\u001b[95m# Agent:\u001b[00m \u001b[1m\u001b[92mInnovativ Rehabiliteringsspesialist med fokus på Digitalt Engasjement\u001b[00m\n",
      "\u001b[95m## Final Answer:\u001b[00m \u001b[92m\n",
      "1. **Navn på aktiviteten:** \"Naturlig bevegelse\"  \n",
      "   **Beskrivelse:** I denne aktiviteten oppfordres Ola til å ta daglige spaserturer i nabolaget eller i nærliggende parker. Hver tur kan være en del av et \"oppdagelsesprogram\" der han dokumenterer observasjoner av planter og dyr (med en enkel notatbok eller en app). Ved å kombinere fysisk aktivitet med hans interesse for natur, får han muligheten til å bevege seg, oppdage nye områder og få frisk luft.  \n",
      "   **Begrunnelse:** Dette forslaget passer for Ola da han har uttrykt interesse for utendørsaktiviteter. Spaserturer gir en trygg og skånsom måte å øke hans fysiske aktivitet på, samtidig som han tilpasser intensiteten til sitt eget nivå med tanke på hans diabetes og hypertensjon. Det å fokusere på naturobservasjoner kan også øke hans mentale velvære og redusere følelser av isolasjon.  \n",
      "   **Teknologisk støtte:** Ola kan bruke en enkel app til å kartlegge turene sine og notere funn, samt motta daglige påminnelser om å gå ut. En videoopplæring om hvordan man bruker appen kan også være nyttig for å styrke hans teknologiske ferdigheter.\n",
      "\n",
      "2. **Navn på aktiviteten:** \"Hagearbeid for helse\"  \n",
      "   **Beskrivelse:** Ola kan delta i hagearbeid aktiviteter hjemme, der han planter blomster eller grønnsaker. Dette kan fungere som en form for lett trening, samtidig som han får mulighet til å skape noe meningsfylt. Aktiviteten kan inkludere å lage en liten kompositt av planter i potter som han kan ta vare på, slik at han kan se fremgang over tid.  \n",
      "   **Begrunnelse:** Hagearbeid kombinerer fysisk aktivitet med hans interesse for \"pusling\", og gir en gradvis tilnærming til trening. Det gir også en følelse av prestasjon og mestring. Dette kan være spesielt motiverende for Ola og bidra til å opprettholde den fysiske helsen hans ved å oppmuntre til regelmessig aktivitet, samtidig som han får en følelse av tilhørighet til naturen.  \n",
      "   **Teknologisk støtte:** En enkel hage-app kan hjelpe Ola med å lære om de forskjellige plantene, gi påminnelser om vanning og vedlikehold, og inkludere videoer om hagearbeidsteknikker som kan være interessante for ham.\n",
      "\n",
      "3. **Navn på aktiviteten:** \"Sosialt treningsfellesskap\"  \n",
      "   **Beskrivelse:** Ola kan delta i en digital gruppeøkt eller treningsprogram via eHjerteRehab-plattformen, der han kan trene sammen med andre pasienter via videochat. Dette kan inkludere lett trening med stoler eller lette strikkøvelser hjemme, fulgt av en sosial prat etter økten.  \n",
      "   **Begrunnelse:** Denne aktiviteten tar hensyn til Olas behov for trygghet og sosial støtte, samtidig som den gir ham muligheten til å trene i et sosialt miljø uten å måtte forlate hjemmet. Det kan redusere hans følelser av isolasjon etter pensjoneringen, gjøre treningen mer motiverende og gi ham en følelse av fellesskap og tilhørighet.  \n",
      "   **Teknologisk støtte:** Ved å bruke en enkel videokonferanse-app kan Ola enkelt delta i disse gruppene. Tilgang til opplæringsvideoer om sikker trening og bruk av plattformen (f.eks. hvordan man deltar i gruppesamtaler) kan hjelpe ham med å utvikle selvtillit i bruken av teknologi.\n",
      "\n",
      "Disse aktivitetene er designet for å engasjere Ola, forbedre hans fysiske helse, øke hans mentale velvære og redusere isolasjon, noe som gjør rehabiliteringen både effektiv og motiverende.\u001b[00m\n",
      "\n",
      "\n",
      "\u001b[1m\u001b[95m# Agent:\u001b[00m \u001b[1m\u001b[92mEkspert på Medisinsk Etikk og Ansvarlig KI i Helsevesenet\u001b[00m\n",
      "\u001b[95m## Task:\u001b[00m \u001b[92mGjennomgå de foreslåtte rehabiliteringsaktivitetene for Ola Nordmann (levert som kontekst). Vurder dem kritisk i lys av prinsipper for ansvarlig KI og medisinsk etikk, spesielt med tanke på: \n",
      "- Pasientautonomi og informert samtykke (selv om dette er simulert).\n",
      "- Potensial for utilsiktet bias eller diskriminering (jf. eHjerteRehabs mål om å nå underrepresenterte grupper [1]).\n",
      "- Personvernsaspekter ved datainnsamling knyttet til aktivitetene (eHjerteRehab bruker BankID og sikker kommunikasjon [1]).\n",
      "- Rettferdighet og likeverdighet i tilbudet.\n",
      "- Sikkerhet og potensiell risiko for pasienten (fysisk og psykisk).\n",
      "Dette arbeidet speiler intensjonen bak eHjerteRehabs WP2.5 Etikk.[1] Gi en konkret tilbakemelding. Hvis det er etiske betenkeligheter, foreslå justeringer eller forbehold.\u001b[00m\n",
      "\n",
      "\n",
      "\u001b[1m\u001b[95m# Agent:\u001b[00m \u001b[1m\u001b[92mEkspert på Medisinsk Etikk og Ansvarlig KI i Helsevesenet\u001b[00m\n",
      "\u001b[95m## Final Answer:\u001b[00m \u001b[92m\n",
      "**1. Overordnet etisk vurdering av aktivitetsforslagene:**\n",
      "\n",
      "De foreslåtte rehabiliteringsaktivitetene for Ola Nordmann, inkludert \"Naturlig bevegelse\", \"Hagearbeid for helse\", og \"Sosialt treningsfellesskap\", fremstår som etisk forsvarlige og tilpasset hans interesser samt behov. Aktivitetene fokuserer på å fremme hans fysiske helse, mentale velvære og sosiale interaksjon, som er vesentlige aspekter ved rehabilitering. \n",
      "\n",
      "Alle tre aktivitetene er i tråd med prinsippene for pasientautonomi og informert samtykke, da de tar hensyn til Olas personlige interesser og preferanser. Samtidig vil den teknologiske støtten (apper og videomøter) bidra til å øke hans engasjement og mestring av enhver aktivitet, og dermed også fremme hans autonomi.\n",
      "\n",
      "**2. Identifisering av etiske dilemmaer eller risikofaktorer:**\n",
      "\n",
      "- **Pasientautonomi og informert samtykke:** Selv om Ola har vist interesse for aktiviteter, er det viktig å sikre at han har fått tilstrekkelig informasjon om hvordan disse aktivitetene er strukturert, og hva de innebærer for hans helse. Det anbefales derfor å involvere Ola i planleggingen av aktivitetene for å bekrefte hans engasjement og forståelse.\n",
      "  \n",
      "- **Potensial for utilsiktet bias eller diskriminering:** Aktivitetsforslagene kan risikere å nevne underrepresenterte grupper. Det er viktig å vurdere om de foreslåtte aktivitetene også er tilgjengelige for pasienter med ulike fysiske evner, eller som har ulik tilgang til teknologi og natur. Dette kan inkludere tilpasning eller tilrettelegging for pasienter som ikke har mulighet til å delta i utendørs aktiviteter.\n",
      "  \n",
      "- **Personvernsaspekter:** Bruken av apper for å registrere og følge med på aktivitetene må garantere personvern i henhold til GDPR. Det er essensielt at Ola er informert om hvordan dataene brukes, lagres og om de eventuelt deles med tredjeparter.\n",
      "\n",
      "- **Rettferdighet og likeverdighet:** Alle aktivitetene bør sikres for rettferdig tilgang og tilrettelegging for alle pasienter, inkludert de med spesielle behov eller begrensninger. Det utgjør en viktig del av rettferdighetsprinsippet.\n",
      "  \n",
      "- **Sikkerhet og potensiell risiko:** Aktivitetene må også vurderes med tanke på sikkerhet. For eksempel, mens 'Naturlig bevegelse' oppfordrer til fysiske turer, er det viktig å vurdere hvilket nivå av trygghet og støtte som tilbys, slik at Ola kan unngå potensielle fall eller uheldige hendelser.\n",
      "\n",
      "**3. Konkrete anbefalinger for å styrke den etiske forsvarligheten:**\n",
      "\n",
      "- **Involvering av Ola:** Det foreslås å gjennomføre en innledende samtale med Ola for å gå gjennom aktivitetene, diskutere dem, og tilfredsstille seg med hans konsentrasjon og komfortnivå.\n",
      "  \n",
      "- **Tilpasning for ulike behov:** Vurdere tilpasning av aktivitetene for pasienter med spesifikke behov, slik at alle har muligheten til å delta i rehabiliteringsprogrammet. I denne prosessen kan eHjerteRehab vurdere å inkludere alternative aktiviteter som også oppfyller de samme helseforbedrende målene.\n",
      "  \n",
      "- **Datainnsamling og personvern:** Utarbeide en klar og lettfattelig personvernerklæring som forklarer hvordan Ola sine data vil bli brukt. Implementere strenge sikkerhetstiltak for å beskytte hans personopplysninger og gi mulighet for å angi preferanser for datadeling.\n",
      "\n",
      "- **Sikkerhet:** Vurdere sikkerhetstiltak under både fysiske og digitale aktiviteter, inkludert opplysning om hva Ola skal være oppmerksom på under turene og hvordan han kan gjennomføre video-deltagelse trygt.\n",
      "\n",
      "**4. Konklusjon:**\n",
      "\n",
      "Basert på den overordnede vurderingen, kan aktivitetene \"Naturlig bevegelse\", \"Hagearbeid for helse\" og \"Sosialt treningsfellesskap\" anses som etisk akseptable, forutsatt at de nødvendige justeringene blir implementert for å sikre at alle hensyn til pasientautonomi, likestilling, sikre datahåndtering og tilpasning til spesifikke behov blir ivaretatt. Ved å ta i bruk disse tiltakene, kan eHjerteRehab på en ansvarlig måte støtte Ola Nortmanns rehabiliteringsreise.\u001b[00m\n",
      "\n",
      "\n",
      "\n",
      "Crew-arbeid fullført.\n"
     ]
    }
   ],
   "source": [
    "# Definere crewet med agentene og oppgavene\n",
    "eHjerteRehab_crew = Crew(\n",
    "    agents=[data_fortolker_agent, aktivitets_designer_agent, etikk_og_samsvars_agent],\n",
    "    tasks=[task_analyser_profil, task_utform_aktiviteter, task_etisk_vurdering],\n",
    "    process=Process.sequential,  # Oppgavene utføres i rekkefølge\n",
    "    verbose=False  # True or 2 Gir detaljert output om agentenes tankeprosess og handlinger\n",
    ")\n",
    "\n",
    "# Starte crewets arbeid\n",
    "# Inputs kan gis her hvis den første oppgaven trenger ekstern input\n",
    "# som ikke er hardkodet i beskrivelsen. I vårt tilfelle er\n",
    "# pasientprofilen allerede en del av task_analyser_profil.description.\n",
    "print(\"Starter eHjerteRehab Crew...\\n\")\n",
    "resultat = eHjerteRehab_crew.kickoff()\n",
    "print(\"\\nCrew-arbeid fullført.\")"
   ]
  },
  {
   "cell_type": "markdown",
   "metadata": {},
   "source": [
    "----\n",
    "\n",
    "### Crew-arbeid:\n",
    "\n",
    "Starter eHjerteRehab Crew...\n",
    "\n",
    "### Agent: Senior HelseData Analytiker for Hjerterehabilitering\n",
    "#### Task: Analyser følgende simulerte pasientprofil for 'Ola Nordmann' (67 år):\n",
    "\n",
    "\n",
    "Medisinsk Historikk: Gjennomgått PCI for 3 uker siden etter et hjerteinfarkt. Har også kjent hypertensjon og diabetes type 2 (moderat regulert). Lett overvektig.\n",
    "Livsstil: Stillesittende kontorjobb før pensjonsalder (nylig pensjonert). Røyket tidligere, men sluttet for 5 år siden. Moderat alkoholforbruk i helgene. Bor alene i enebolig med hage, et stykke utenfor sentrum.\n",
    "Psykososialt: Uttrykker bekymring for fremtiden og er redd for nytt infarkt. Føler seg litt isolert etter pensjonering. Motivasjon for trening er \"så som så\", men han liker å være ute i naturen og \"pusle med ting\". Teknologisk kompetanse: Bruker smarttelefon og nettbrett til enkle ting (nyheter, e-post), men er ikke veldig dreven.\n",
    "Rehabiliteringsmål (fra samtale): Ønsker å \"komme i bedre form\", \"føle seg tryggere\", og \"ha noe meningsfylt å gjøre\".\n",
    "\n",
    "\n",
    "Identifiser 3-5 nøkkelinnsikter som er avgjørende for å persontilpasse hans eHjerteRehab-program. Fokuser på motivasjonsdrivere, potensielle barrierer (fysiske, psykososiale, teknologiske), og hans uttrykte mål og preferanser. Vurder spesielt hans komorbiditeter (hypertensjon, diabetes) og hvordan disse kan påvirke rehabiliteringsplanen, i tråd med fokus i eHjerteRehab WP1.3.[1]\n",
    "\n",
    "\n",
    "### Agent: Senior HelseData Analytiker for Hjerterehabilitering\n",
    "#### Final Answer: \n",
    "1. **Motivasjonsdrivende elementer: Naturbasert aktivitet**  \n",
    "   Ola uttrykker en glede for å være ute i naturen og \"pusle med ting\". Dette kan utnyttes ved å inkludere uteaktiviteter i rehabiliteringsprogrammet, som gåturer i naturen, hagearbeid, og aktiviteter som kombinerer bevegelse med hans interesse for friluftsliv. Dette vil øke hans motivasjon for å delta.\n",
    "\n",
    "2. **Psykososiale barrierer: Isolasjon og bekymring**  \n",
    "   Ola føler seg isolert etter pensjonering og har uttrykt bekymring for sin helse. Det er viktig å implementere et sosialt element i rehabiliteringsprogrammet, som gruppeaktiviteter eller online støttegrupper, for å bygge fellesskap og redusere følelser av isolasjon. Å inkludere elementer av psykososial støtte kan bidra til bedre mental helse og motivasjon.\n",
    "\n",
    "3. **Teknologisk kompetanse: Enkel digital interaksjon**  \n",
    "   Selv om Ola har noe teknologisk kompetanse, bør rehabiliteringsprogrammet designes med brukervennlige digital løsninger. Enkle apper eller programvare som står i stil med hans ferdigheter kan introduseres for å holde oversikt over fremgang, skape daglige påminnelser, og gi data om helsen hans. Personlig tilpasset opplæring kan være nyttig for å fjerne teknologiske barrierer.\n",
    "\n",
    "4. **Kommorbiditeter: Hjertehelsen må prioriteres**  \n",
    "   Med hans historie av hypertensjon og diabetes type 2, er det avgjørende å utforme treningstiltak som er tilpasset hans helsetilstand. Dette kan inkludere overvåking av hjertefrekvens og blodsukkernivå under aktivitetene for å sikre sikkerhet. Inkludering av ernæringsveiledning tilpasset hans diabetes vil også styrke rehabiliteringsresultatene.\n",
    "\n",
    "5. **Klarhet i rehabiliteringsmål: Meningsfulle aktiviteter**  \n",
    "   Ola ønsker \"noe meningsfylt å gjøre\". Å integrere målorienterte aktiviteter som gir ham en følelse av fremgang og prestasjon, som små personlige utfordringer eller prosjekter (f.eks. hagearbeid, bygge ting), kan øke engasjementet hans. Dette vil bidra til at han føler seg mer trygg og i bedre form, noe som er i tråd med hans rehabiliteringsmål.\n",
    "\n",
    "\n",
    "### Agent: Innovativ Rehabiliteringsspesialist med fokus på Digitalt Engasjement\n",
    "#### Task: Basert på nøkkelinnsiktene fra analysen av Ola Nordmanns pasientprofil (levert som kontekst), utvikle 2-3 konkrete, persontilpassede og motiverende aktivitetselementer for hans eHjerteRehab-program. Aktivitetene bør være trygge med tanke på hans medisinske historikk (PCI, hypertensjon, diabetes). Inkluder en kort begrunnelse for hvert forslag som knytter det til pasientens profil (f.eks. hans interesse for natur, behov for trygghet, teknologiske ferdigheter – husk eHjerteRehabs fokus på brukervennlighet og tilpasset informasjon [1]).\n",
    "\n",
    "\n",
    "### Agent: Innovativ Rehabiliteringsspesialist med fokus på Digitalt Engasjement\n",
    "#### Final Answer: \n",
    "1. **Navn på aktiviteten:** Natur- og hageprosjektet  \n",
    "   **Beskrivelse:** Ola skal delta i et ukentlig hageprosjekt, der han får mulighet til å plante, stelle og observere vekst av ulike planter eller grønnsaker. Dette kan enkelt startes med potteplanter eller et lite hagebed hjemme, som han kan jobbe med over tid. Aktiviteten inkluderer lette øvelser som å bøye seg, stå og gå, som vil styrke hans fysiske helse i tillegg til å gi en meningsfull opplevelse.  \n",
    "   **Begrunnelse:** Aktiviteten utnytter Olas glede for natur og hans interesse for å \"pusle med ting\". Hagearbeid kan også bidra til å redusere følelser av isolasjon og gir ham en aktiv rolle, samtidig som han kan se fremgang og resultater av arbeidet sitt.  \n",
    "   **Teknologisk støtte:** Ola kan bruke en enkel app for hageplanlegging, med påminnelser for vanning og stell av plantene. I tillegg kan han dokumentere veksten gjennom bilder, noe som kan gi ham visuell tilbakemelding på fremgangen.\n",
    "\n",
    "2. **Navn på aktiviteten:** Gåtur med venn  \n",
    "   **Beskrivelse:** Ola oppfordres til å ta med seg en venn eller familiemedlem på ukentlige gåturer i nærområdet, gjerne i en park eller naturområde han liker. Disse turene skal vare minst 30 minutter, og kan kombineres med samtaler og sosialisering underveis.  \n",
    "   **Begrunnelse:** Dette tiltaket bygger på å redusere Olas følelser av isolasjon ved å inkludere sosial interaksjon, som er viktig i hans rehabiliteringsprosess. Gåturer i naturen vil ikke bare booste hans fysiske aktivitet, men også gi ham psykologiske fordeler fra sosialt samvær.  \n",
    "   **Teknologisk støtte:** Ola kan bruke en app for å loggføre sine gåturer, sette mål for antall dager han går i uken og få oppdateringer om hans fysiske aktivitet slik at han kan holde fremgangen sin i fokus.\n",
    "\n",
    "3. **Navn på aktiviteten:** Digitalt støttegruppeprogram  \n",
    "   **Beskrivelse:** Ola blir tilbudt å delta i en digital støttegruppe via videochat, hvor han kan dele erfaringer, utfordringer og oppnåelser relatert til sin rehabilitering med andre som har lignende helsetilstander. Gruppen vil ha en fasilitator som guider diskusjoner og aktiviteter.  \n",
    "   **Begrunnelse:** Dette tiltaket adresserer Olas bekymringer knyttet til isolasjon og sikrer at han har en plattform der han kan dele sine tanker og lære av andre. Det vil være en kilde til emosjonell støtte, og samtidig huske på viktigheten av psykososial helse i rehabilitering.  \n",
    "   **Teknologisk støtte:** Bruk av en enkel videokonferanseapp med påminnelser og muligheten for å chatte i grupper vil sørge for brukervennlighet og lett tilgang til møter, slik at Ola ikke føler seg overveldet av teknologien. \n",
    "\n",
    "Disse aktivitetene vil bidra til å holde Ola motivert, engasjert og gi ham en følelse av mening og fremgang, i tråd med hans individuelle rehabiliteringsmål.\n",
    "\n",
    "\n",
    "### Agent: Ekspert på Medisinsk Etikk og Ansvarlig KI i Helsevesenet\n",
    "#### Task: Gjennomgå de foreslåtte rehabiliteringsaktivitetene for Ola Nordmann (levert som kontekst). Vurder dem kritisk i lys av prinsipper for ansvarlig KI og medisinsk etikk, spesielt med tanke på: \n",
    "- Pasientautonomi og informert samtykke (selv om dette er simulert).\n",
    "- Potensial for utilsiktet bias eller diskriminering (jf. eHjerteRehabs mål om å nå underrepresenterte grupper [1]).\n",
    "- Personvernsaspekter ved datainnsamling knyttet til aktivitetene (eHjerteRehab bruker BankID og sikker kommunikasjon [1]).\n",
    "- Rettferdighet og likeverdighet i tilbudet.\n",
    "- Sikkerhet og potensiell risiko for pasienten (fysisk og psykisk).\n",
    "Dette arbeidet speiler intensjonen bak eHjerteRehabs WP2.5 Etikk.[1] Gi en konkret tilbakemelding. Hvis det er etiske betenkeligheter, foreslå justeringer eller forbehold.\n",
    "\n",
    "\n",
    "### Agent: Ekspert på Medisinsk Etikk og Ansvarlig KI i Helsevesenet\n",
    "#### Final Answer: \n",
    "**1. En overordnet etisk vurdering av aktivitetsforslagene:**  \n",
    "De foreslåtte rehabiliteringsaktivitetene for Ola Nordmann, inkludert Natur- og hageprosjektet, Gåtur med venn, og Digitalt støttegruppeprogram, fremstår som etisk forsvarlige i sin tilnærming til rehabilitering. Disse aktivitetene er designet for å støtte Olas fysisk og psykisk velvære, og respekterer pasientautonomi ved å legge til rette for valg og samarbeid i rehabiliteringsprosessen. Bruken av teknologi for å fremme disse aktivitetene er godt gjennomtenkt, men det er viktig å sikre at den ikke skaper unødig kompliserte opplevelser som kan føre til angst eller motstand mot bruk.\n",
    "\n",
    "**2. Identifisering av eventuelle etiske dilemmaer eller risikofaktorer:**  \n",
    "- **Pasientautonomi og informert samtykke:** Det er essensielt at Ola har mulighet til å gi informert samtykke til deltakelse i digitale plattformer og aktiviteter, samt mulighet til å trekke seg fra disse om ønskelig. Det må være en klar kommunikasjon om hvordan data vil bli brukt og oppbevart.\n",
    "- **Potensial for utilsiktet bias eller diskriminering:** Det bør vurderes hvordan disse aktivitetene kan tilpasses for å inkludere underrepresenterte grupper, for eksempel personer med nedsatt mobilitet eller de som er mindre komfortable med teknologi. Hvis aktivitetsforslagene er for fokuserte på fysisk aktivitet, kan det risikoen for å ekskludere personer med spesifikke behov.\n",
    "- **Personvernsaspekter:** Bruken av data gjennom apper for loggføring og video-deltakelse krever strenge sikkerhetstiltak for å beskytte Olas personopplysninger. Det er nødvendig å sikre at all datainnsamling er i samsvar med GDPR-retningslinjene.\n",
    "- **Rettferdighet og likeverdighet:** Aktivitetene må være tilgjengelige for alle pasienter uavhengig av teknologisk ferdighet eller fysisk kapasitet. Det må legges til rette for at Ola, uavhengig av sine begrensninger, kan delta fullverdig.\n",
    "- **Sikkerhet og potensiell risiko:** Det er viktig at aktivitetene er tilpasset Olas fysiske helse og ferdigheter for å unngå skader. I tillegg må den psykiske belastningen ved deltakelse i videokonftamtens grupper vurderes.\n",
    "\n",
    "**3. Konkrete anbefalinger for å styrke den etiske forsvarligheten av forslagene, om nødvendig:**  \n",
    "- For å styrke pasientautonomi, bør det være en tydelig prosedyre for å dokumentere at Ola har gitt sitt samtykke til deltakelse i aktivitetene, inkludert databruk. \n",
    "- Det kan vurderes å tilby alternative aktiviteter for de som har utfordringer med tilgang til teknologi, for eksempel fysiske møter i trygge miljøer.\n",
    "- For å sikre at ingen pasienter blir diskriminert eller ekskludert, kan man inkludere tilpasninger og alternative aktiviteter i aktivitetsplanen som tar hensyn til forskjellige ferdigheter og preferanser.\n",
    "- Regelmessig evaluering av aktivitetene bør implementeres for å tilpasse dem etter pasientens respons og behov.\n",
    "\n",
    "**4. En konklusjon om hvorvidt forslagene, med eventuelle justeringer, er etisk akseptable for bruk i en eHjerteRehab-kontekst:**  \n",
    "Etter en grundig vurdering er de foreslåtte rehabiliteringsaktiviteter etisk akseptable, forutsatt at de foreslåtte justeringene blir implementert. Med fokus på pasientens autonomi, beskyttelse mot diskriminering, strenge personvernprosedyrer og en forpliktelse til rettferdighet og sikkerhet, kan disse aktivitetene gi Ola en meningsfull og trygg rehabiliteringsreise. Videre bør tiltak for kontinuerlig sporbarhet og tilbakemeldinger fra Ola understøtte muligheten til å justere tiltakene fortløpende, i tråd med hans opplevelser og preferanser.\n",
    "\n",
    "\n",
    "\n",
    "#### Crew-arbeid fullført.\n",
    "\n",
    "-----"
   ]
  },
  {
   "cell_type": "markdown",
   "metadata": {},
   "source": [
    "### Vise Resultatet\n",
    "\n",
    "Crewet har nå fullført sine oppgaver. Variabelen `resultat` inneholder det endelige outputtet fra den siste oppgaven i sekvensen, som i dette tilfellet er den etiske vurderingen fra `EtikkOgSamsvarsAgent`. Vi skriver ut dette resultatet."
   ]
  },
  {
   "cell_type": "markdown",
   "metadata": {},
   "source": [
    "### Skrive ut Resultatet\n",
    "\n",
    "Output fra `verbose=True` vil ha vist detaljer fra hver agent underveis i kjøringen. Det som skrives ut over er det konsoliderte sluttresultatet fra den siste agenten i kjeden."
   ]
  },
  {
   "cell_type": "code",
   "execution_count": 11,
   "metadata": {},
   "outputs": [
    {
     "name": "stdout",
     "output_type": "stream",
     "text": [
      "\n",
      "\n",
      "##################################################\n",
      "##### Endelig Resultat fra EtikkOgSamsvarsAgent #####\n",
      "##################################################\n",
      "\n",
      "**1. Overordnet etisk vurdering av aktivitetsforslagene:**\n",
      "\n",
      "De foreslåtte rehabiliteringsaktivitetene for Ola Nordmann, inkludert \"Naturlig bevegelse\", \"Hagearbeid for helse\", og \"Sosialt treningsfellesskap\", fremstår som etisk forsvarlige og tilpasset hans interesser samt behov. Aktivitetene fokuserer på å fremme hans fysiske helse, mentale velvære og sosiale interaksjon, som er vesentlige aspekter ved rehabilitering. \n",
      "\n",
      "Alle tre aktivitetene er i tråd med prinsippene for pasientautonomi og informert samtykke, da de tar hensyn til Olas personlige interesser og preferanser. Samtidig vil den teknologiske støtten (apper og videomøter) bidra til å øke hans engasjement og mestring av enhver aktivitet, og dermed også fremme hans autonomi.\n",
      "\n",
      "**2. Identifisering av etiske dilemmaer eller risikofaktorer:**\n",
      "\n",
      "- **Pasientautonomi og informert samtykke:** Selv om Ola har vist interesse for aktiviteter, er det viktig å sikre at han har fått tilstrekkelig informasjon om hvordan disse aktivitetene er strukturert, og hva de innebærer for hans helse. Det anbefales derfor å involvere Ola i planleggingen av aktivitetene for å bekrefte hans engasjement og forståelse.\n",
      "  \n",
      "- **Potensial for utilsiktet bias eller diskriminering:** Aktivitetsforslagene kan risikere å nevne underrepresenterte grupper. Det er viktig å vurdere om de foreslåtte aktivitetene også er tilgjengelige for pasienter med ulike fysiske evner, eller som har ulik tilgang til teknologi og natur. Dette kan inkludere tilpasning eller tilrettelegging for pasienter som ikke har mulighet til å delta i utendørs aktiviteter.\n",
      "  \n",
      "- **Personvernsaspekter:** Bruken av apper for å registrere og følge med på aktivitetene må garantere personvern i henhold til GDPR. Det er essensielt at Ola er informert om hvordan dataene brukes, lagres og om de eventuelt deles med tredjeparter.\n",
      "\n",
      "- **Rettferdighet og likeverdighet:** Alle aktivitetene bør sikres for rettferdig tilgang og tilrettelegging for alle pasienter, inkludert de med spesielle behov eller begrensninger. Det utgjør en viktig del av rettferdighetsprinsippet.\n",
      "  \n",
      "- **Sikkerhet og potensiell risiko:** Aktivitetene må også vurderes med tanke på sikkerhet. For eksempel, mens 'Naturlig bevegelse' oppfordrer til fysiske turer, er det viktig å vurdere hvilket nivå av trygghet og støtte som tilbys, slik at Ola kan unngå potensielle fall eller uheldige hendelser.\n",
      "\n",
      "**3. Konkrete anbefalinger for å styrke den etiske forsvarligheten:**\n",
      "\n",
      "- **Involvering av Ola:** Det foreslås å gjennomføre en innledende samtale med Ola for å gå gjennom aktivitetene, diskutere dem, og tilfredsstille seg med hans konsentrasjon og komfortnivå.\n",
      "  \n",
      "- **Tilpasning for ulike behov:** Vurdere tilpasning av aktivitetene for pasienter med spesifikke behov, slik at alle har muligheten til å delta i rehabiliteringsprogrammet. I denne prosessen kan eHjerteRehab vurdere å inkludere alternative aktiviteter som også oppfyller de samme helseforbedrende målene.\n",
      "  \n",
      "- **Datainnsamling og personvern:** Utarbeide en klar og lettfattelig personvernerklæring som forklarer hvordan Ola sine data vil bli brukt. Implementere strenge sikkerhetstiltak for å beskytte hans personopplysninger og gi mulighet for å angi preferanser for datadeling.\n",
      "\n",
      "- **Sikkerhet:** Vurdere sikkerhetstiltak under både fysiske og digitale aktiviteter, inkludert opplysning om hva Ola skal være oppmerksom på under turene og hvordan han kan gjennomføre video-deltagelse trygt.\n",
      "\n",
      "**4. Konklusjon:**\n",
      "\n",
      "Basert på den overordnede vurderingen, kan aktivitetene \"Naturlig bevegelse\", \"Hagearbeid for helse\" og \"Sosialt treningsfellesskap\" anses som etisk akseptable, forutsatt at de nødvendige justeringene blir implementert for å sikre at alle hensyn til pasientautonomi, likestilling, sikre datahåndtering og tilpasning til spesifikke behov blir ivaretatt. Ved å ta i bruk disse tiltakene, kan eHjerteRehab på en ansvarlig måte støtte Ola Nortmanns rehabiliteringsreise.\n"
     ]
    }
   ],
   "source": [
    "print(\"\\n\\n##################################################\")\n",
    "print(\"##### Endelig Resultat fra EtikkOgSamsvarsAgent #####\")\n",
    "print(\"##################################################\\n\")\n",
    "print(resultat)"
   ]
  },
  {
   "cell_type": "markdown",
   "metadata": {},
   "source": [
    "**1. En overordnet etisk vurdering av aktivitetsforslagene:**  \n",
    "De foreslåtte rehabiliteringsaktivitetene for Ola Nordmann, inkludert Natur- og hageprosjektet, Gåtur med venn, og Digitalt støttegruppeprogram, fremstår som etisk forsvarlige i sin tilnærming til rehabilitering. Disse aktivitetene er designet for å støtte Olas fysisk og psykisk velvære, og respekterer pasientautonomi ved å legge til rette for valg og samarbeid i rehabiliteringsprosessen. Bruken av teknologi for å fremme disse aktivitetene er godt gjennomtenkt, men det er viktig å sikre at den ikke skaper unødig kompliserte opplevelser som kan føre til angst eller motstand mot bruk.\n",
    "\n",
    "**2. Identifisering av eventuelle etiske dilemmaer eller risikofaktorer:**  \n",
    "- **Pasientautonomi og informert samtykke:** Det er essensielt at Ola har mulighet til å gi informert samtykke til deltakelse i digitale plattformer og aktiviteter, samt mulighet til å trekke seg fra disse om ønskelig. Det må være en klar kommunikasjon om hvordan data vil bli brukt og oppbevart.\n",
    "- **Potensial for utilsiktet bias eller diskriminering:** Det bør vurderes hvordan disse aktivitetene kan tilpasses for å inkludere underrepresenterte grupper, for eksempel personer med nedsatt mobilitet eller de som er mindre komfortable med teknologi. Hvis aktivitetsforslagene er for fokuserte på fysisk aktivitet, kan det risikoen for å ekskludere personer med spesifikke behov.\n",
    "- **Personvernsaspekter:** Bruken av data gjennom apper for loggføring og video-deltakelse krever strenge sikkerhetstiltak for å beskytte Olas personopplysninger. Det er nødvendig å sikre at all datainnsamling er i samsvar med GDPR-retningslinjene.\n",
    "- **Rettferdighet og likeverdighet:** Aktivitetene må være tilgjengelige for alle pasienter uavhengig av teknologisk ferdighet eller fysisk kapasitet. Det må legges til rette for at Ola, uavhengig av sine begrensninger, kan delta fullverdig.\n",
    "- **Sikkerhet og potensiell risiko:** Det er viktig at aktivitetene er tilpasset Olas fysiske helse og ferdigheter for å unngå skader. I tillegg må den psykiske belastningen ved deltakelse i videokonftamtens grupper vurderes.\n",
    "\n",
    "**3. Konkrete anbefalinger for å styrke den etiske forsvarligheten av forslagene, om nødvendig:**  \n",
    "- For å styrke pasientautonomi, bør det være en tydelig prosedyre for å dokumentere at Ola har gitt sitt samtykke til deltakelse i aktivitetene, inkludert databruk. \n",
    "- Det kan vurderes å tilby alternative aktiviteter for de som har utfordringer med tilgang til teknologi, for eksempel fysiske møter i trygge miljøer.\n",
    "- For å sikre at ingen pasienter blir diskriminert eller ekskludert, kan man inkludere tilpasninger og alternative aktiviteter i aktivitetsplanen som tar hensyn til forskjellige ferdigheter og preferanser.\n",
    "- Regelmessig evaluering av aktivitetene bør implementeres for å tilpasse dem etter pasientens respons og behov.\n",
    "\n",
    "**4. En konklusjon om hvorvidt forslagene, med eventuelle justeringer, er etisk akseptable for bruk i en eHjerteRehab-kontekst:**  \n",
    "Etter en grundig vurdering er de foreslåtte rehabiliteringsaktiviteter etisk akseptable, forutsatt at de foreslåtte justeringene blir implementert. Med fokus på pasientens autonomi, beskyttelse mot diskriminering, strenge personvernprosedyrer og en forpliktelse til rettferdighet og sikkerhet, kan disse aktivitetene gi Ola en meningsfull og trygg rehabiliteringsreise. Videre bør tiltak for kontinuerlig sporbarhet og tilbakemeldinger fra Ola understøtte muligheten til å justere tiltakene fortløpende, i tråd med hans opplevelser og preferanser."
   ]
  },
  {
   "cell_type": "markdown",
   "metadata": {},
   "source": [
    "### Tolkning av Resultatene (Eksempel på Refleksjon)\n",
    "\n",
    "Når man gjennomgår `resultat` fra `EtikkOgSamsvarsAgent` (og den verbose loggen fra kjøringen), bør man vurdere følgende:\n",
    "\n",
    "- **DataFortolkerAgent**:\n",
    "   - Hvordan tolket agenten pasientprofilen til \"Ola Nordmann\"?\n",
    "   - Var de identifiserte nøkkelinnsiktene relevante og dekkende for hans situasjon (f.eks. isolasjon, naturinteresse, teknologisk kompetanse, komorbiditeter)?\n",
    "\n",
    "- **AktivitetsDesignerAgent**:\n",
    "   - Hvilke konkrete aktiviteter ble foreslått?\n",
    "   - Virker forslagene genuint persontilpassede og motiverende basert på Olas profil?\n",
    "   - Er de praktisk gjennomførbare hjemme og teknologisk tilpasset hans nivå?\n",
    "\n",
    "- **EtikkOgSamsvarsAgent**:\n",
    "   - Hva var den overordnede etiske konklusjonen?\n",
    "   - Ble det identifisert noen spesifikke etiske dilemmaer eller risikofaktorer (f.eks. knyttet til hans sårbarhet, personvern, eller rettferdighet)?\n",
    "   - Var anbefalingene for justeringer (hvis noen) fornuftige og gjennomførbare?\n",
    "\n",
    "Dette forenklede eksempelet, selv med simulerte data, illustrerer potensialet for KI-støttet persontilpasning og hvordan en strukturert tilnærming til ansvarlig praksis kan integreres. Slike systemer kan potensielt bidra til flere av eHjerteRehabs sentrale mål, som å tilby \"mer sammenhengende og skreddersydde pasientforløp\", styrke \"pasienten si evne til å ta styring over eiga helse\", og bidra til å \"redusera variasjon i kvalitet og tilgjengelegheit til hjarterehabilitering\". "
   ]
  },
  {
   "cell_type": "markdown",
   "metadata": {},
   "source": [
    "### Begrensninger ved Eksempelet og Veien Videre\n",
    "\n",
    "Det er viktig å anerkjenne begrensningene ved denne demonstrasjonen. En åpen diskusjon om disse er avgjørende for å bygge troverdighet og sette realistiske forventninger, spesielt overfor et fagkyndig publikum. Dette viser en moden forståelse for teknologiens nåværende kapabiliteter og utfordringer.\n",
    "\n",
    "**Begrensninger:**\n",
    "\n",
    "- **Fiktiv og Statisk Data**: Eksempelet bruker en kort, fiktiv pasientprofil. Reelle pasientdata er langt mer komplekse, dynamiske, og sensitive.\n",
    "\n",
    "- **Mangel på Reelle Verktøy**: Agentene har ingen reelle \"tools\"  (f.eks. tilgang til medisinske databaser, kunnskapsbaser for retningslinjer, eller integrasjon med eHjerteRehab-plattformens faktiske funksjoner).   \n",
    "- Ingen Menneskelig Intervensjon: Dette er en enkelt, autonom kjøring uten mulighet for menneskelig feedback eller justering underveis i prosessen.\n",
    "\n",
    "- **LLM-pålitelighet**: Store språkmodeller kan \"hallusinere\" (generere feilaktig informasjon) eller gi unøyaktige svar. Grundig validering, testing, og kvalitetssikring er absolutt nødvendig i reelle helseapplikasjoner.\n",
    "\n",
    "- **Etisk kompleksitet**: Reelle etiske vurderinger er dypere og mer nyanserte enn det en KI-agent alene kan håndtere i dag.\n",
    "\n",
    "**Veien Videre for Mer Komplekse Implementasjoner i eHjerteRehab:**\n",
    "\n",
    "Å koble den videre utviklingen av KI-løsninger direkte til eHjerteRehabs eksisterende struktur og prinsipper er essensielt. KI-utvikling bør ikke skje i et vakuum, men som en integrert del av prosjektets overordnede strategi og samarbeidsmodell.\n",
    "\n",
    "- **Integrasjon med Reelle Systemer**: Utforske sikker integrasjon med (anonymiserte/pseudonymiserte) pasientdata og journalsystemer, underlagt de strengeste personvernhensyn og regulatoriske krav.\n",
    "\n",
    "- **Utvikling av Spesialiserte Verktøy**: Lage domenespesifikke verktøy for agentene, f.eks. for å hente oppdatert informasjon fra eHjerteRehab-plattformen, søke i medisinske retningslinjer, eller analysere strukturerte data.\n",
    "\n",
    "- **Menneskelig Tilsyn og Kontroll (\"Human-in-the-Loop\")**: Implementere robuste mekanismer for menneskelig overvåkning, validering og overstyring av KI-genererte forslag og beslutninger.\n",
    "\n",
    "- **Iterativ Utvikling og Validering**: En syklisk prosess med design, utvikling, testing og validering i tett samarbeid med klinikere, etikere, og ikke minst pasienter. Dette er helt i tråd med eHjerteRehabs etablerte praksis med en \"Brukargruppe\" og \"Ekspertgruppe\" , som sikrer at løsningene møter reelle behov og er etisk forankret.   \n",
    "\n",
    "- **Forskning på Forklarbarhet (XAI)**: Videre arbeid med å gjøre KI-systemers beslutningsprosesser mer transparente og forståelige for både helsepersonell og pasienter.\n"
   ]
  },
  {
   "cell_type": "markdown",
   "metadata": {},
   "source": [
    "### Avsluttende Kommentarer\n",
    "\n",
    "Dette Jupyter Notebook-eksempelet har gitt en forenklet smakebit på hvordan KI-agenter, her representert ved CrewAI-rammeverket, kan struktureres for å støtte komplekse, tverrfaglige oppgaver i helsevesenet, slik som persontilpasning av rehabiliteringsforløp.\n",
    "\n",
    "\n",
    "Potensialet for KI innenfor prosjekter som eHjerteRehab er betydelig, men realiseringen av dette potensialet avhenger kritisk av en tilnærming preget av ansvarlighet, etisk bevissthet, og tett samarbeid mellom alle involverte parter. Nøkkelen ligger i å utvikle og implementere KI-systemer som er trygge, rettferdige, transparente, og som reelt sett forbedrer pasientbehandling og -opplevelse. eHjerteRehab-prosjektet, med sin solide forankring i forskning, tverrfaglighet og brukerinvolvering , er godt rustet til å navigere i dette spennende, men også krevende, landskapet.\n",
    "\n",
    "-----"
   ]
  },
  {
   "cell_type": "markdown",
   "metadata": {},
   "source": [
    "#### TEKNISK KOMMENTAR: Svær rekursjon dersom man setter `verbose=True`\n",
    "\n",
    "Jeg ser at du får en \"maximum recursion depth exceeded\" feil, som tyder på at det er en uendelig rekursjon i CrewAI-kjøringen. Dette kan skyldes flere ting. La meg hjelpe deg med å feilsøke dette.\n",
    "\n",
    "Først, la meg sjekke hvilken versjon av CrewAI du bruker:\n",
    "\n",
    "```bash\n",
    "pip show crewai\n",
    "```\n",
    "Det ser ut som CrewAI ikke er installert i det aktuelle miljøet. La meg sjekke hvilket Python-miljø som er aktivt og installere CrewAI:\n",
    "\n",
    "```bash\n",
    "conda activate hjerterehab && pip show crewai\n",
    "```\n",
    "Bra! Du har CrewAI versjon 0.121.0 installert. Rekursjonsfeil kan oppstå av flere grunner (her ved å sette `verbose=True`)\n",
    " \n",
    "\n",
    "CrewAI-rekursjonsproblemene kan løses ved å forenkle agent-konfigurasjoner og bruke fallback-løsninger som den direkte analysen jeg laget. \n",
    "Du har nå både resultatet du trengte og verktøyene for å unngå lignende problemer i fremtiden!\n"
   ]
  },
  {
   "cell_type": "markdown",
   "metadata": {},
   "source": []
  },
  {
   "cell_type": "markdown",
   "metadata": {},
   "source": []
  },
  {
   "cell_type": "markdown",
   "metadata": {},
   "source": []
  }
 ],
 "metadata": {
  "kernelspec": {
   "display_name": "ehjerterehab_crew_env",
   "language": "python",
   "name": "python3"
  },
  "language_info": {
   "codemirror_mode": {
    "name": "ipython",
    "version": 3
   },
   "file_extension": ".py",
   "mimetype": "text/x-python",
   "name": "python",
   "nbconvert_exporter": "python",
   "pygments_lexer": "ipython3",
   "version": "3.12.9"
  }
 },
 "nbformat": 4,
 "nbformat_minor": 2
}

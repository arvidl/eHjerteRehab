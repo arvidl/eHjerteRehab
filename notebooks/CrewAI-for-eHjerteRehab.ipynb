{
 "cells": [
  {
   "cell_type": "markdown",
   "metadata": {},
   "source": [
    "### Del 2: Jupyter Notebook Eksempel – KI-agenter med CrewAI for eHjerteRehab\n",
    "\n",
    "**Formål:** Å demonstrere konseptuelt hvordan et team av KI-agenter kan samarbeide om en oppgave relevant for persontilpasset rehabilitering i eHjerteRehab, ved bruk av rammeverket CrewAI. Dette eksempelet er forenklet og bruker simulerte data for illustrative formål."
   ]
  },
  {
   "cell_type": "markdown",
   "metadata": {},
   "source": [
    "### CrewAI Demo: Persontilpasset Aktivitetsforslag for eHjerteRehab\n",
    "\n",
    "**Formål:** Dette Jupyter Notebook-eksempelet demonstrerer hvordan et team av spesialiserte KI-agenter, bygget med CrewAI, kan samarbeide for å analysere en (simulert) pasientprofil og generere persontilpassede aktivitetsforslag med en påfølgende etisk vurdering. Dette illustrerer en potensiell anvendelse av KI for å støtte persontilpasning i eHjerteRehab.\n",
    "\n",
    "**Scenario:**\n",
    "\n",
    "1. En `DataFortolkerAgent` analyserer en pasientprofil for å identifisere nøkkelinnsikter.\n",
    "\n",
    "2. En `AktivitetsDesignerAgent` bruker disse innsiktene til å foreslå rehabiliteringsaktiviteter.\n",
    "\n",
    "3. En `EtikkOgSamsvarsAgent` vurderer forslagene fra et etisk og ansvarlig perspektiv.\n",
    "\n",
    "**Merk**: Dette er en konseptuell demonstrasjon og bruker ikke reelle pasientdata eller avanserte medisinske verktøy."
   ]
  },
  {
   "cell_type": "markdown",
   "metadata": {},
   "source": [
    "### Hvorfor CrewAI for denne demonstrasjonen?\n",
    "\n",
    "Valget av CrewAI  for denne demonstrasjonen er strategisk. eHjerteRehab-prosjektet er i seg selv et multimodalt og tverrfaglig initiativ med mange aktører. CrewAI tillater oss å speile denne tverrfaglige samarbeidsmodellen i en KI-arkitektur. \n",
    "  \n",
    "\n",
    "- **Spesialiserte Agenter**: I stedet for en enkelt, monolitisk KI (som kan oppleves som en \"svart boks\"), lar CrewAI oss definere agenter med distinkte roller, mål og bakgrunnshistorier. Dette kan sammenlignes med hvordan ulike fageksperter (kardiolog, fysioterapeut, psykolog, etiker) samarbeider i helsevesenet.\n",
    "\n",
    "- **Transparent Prosess**: Ved å observere interaksjonen mellom agentene, blir KI-prosessen potensielt mer transparent og forståelig. Man kan se hvordan ulike \"ekspertiser\" (simulert av agentene) bidrar til det endelige resultatet.\n",
    "\n",
    "- **Tilgjengeliggjøring av KI**: En slik agentbasert tilnærming kan gjøre KI-konsepter mer tilgjengelige og mindre truende for helsepersonell og andre interessenter, da det bygger på kjente prinsipper for teamarbeid og ansvarsdeling. Dette er i tråd med eHjerteRehabs mål om å modernisere og digitalisere arbeidsprosesser på en forståelig måte."
   ]
  },
  {
   "cell_type": "markdown",
   "metadata": {},
   "source": [
    "### Oppsett av Miljøet\n",
    "\n",
    "For å kjøre dette eksempelet, trenger du:\n",
    "\n",
    "1. Python 3.10 eller nyere.\n",
    "\n",
    "2. CrewAI og nødvendige avhengigheter installert (`pip install crewai crewai-tools`).\n",
    "\n",
    "3. En API-nøkkel for en stor språkmodell (LLM), f.eks. fra OpenAI, satt som en miljøvariabel (`OPENAI_API_KEY`). For Helse Bergen-kontekst, vil man typisk bruke sikrede, godkjente modeller og plattformer.\n",
    "\n",
    "Vi starter med å importere nødvendige biblioteker og laste miljøvariabler (hvis du bruker en \n",
    "`.env`-fil)."
   ]
  },
  {
   "cell_type": "markdown",
   "metadata": {},
   "source": [
    "###  Importering og Miljøvariabler"
   ]
  },
  {
   "cell_type": "code",
   "execution_count": 1,
   "metadata": {},
   "outputs": [],
   "source": [
    "import os\n",
    "from dotenv import load_dotenv\n",
    "from crewai import Agent, Task, Crew, Process\n",
    "# from langchain_openai import ChatOpenAI # Kan aktiveres for spesifikk modellstyring\n",
    "\n",
    "# Last miljøvariabler fra.env-filen (hvis den finnes)\n",
    "load_dotenv()\n",
    "\n",
    "# Sett opp API-nøkkel og eventuelt modellnavn\n",
    "# Dette hentes typisk fra miljøvariabler for sikkerhetens skyld\n",
    "# os.environ[\"OPENAI_API_KEY\"] = \"DIN_API_NØKKEL_HER\" # Bør settes i.env\n",
    "# os.environ = \"gpt-4-turbo\" # Eksempel, velg modell etter behov/tilgang\n",
    "\n",
    "# For demonstrasjonens skyld, hvis OPENAI_API_KEY ikke er satt, kan man\n",
    "# legge inn en påminnelse eller stoppe kjøringen.\n",
    "# I et produksjonsmiljø i helsevesenet ville tilgang og autentisering\n",
    "# vært håndtert via sikre, godkjente systemer.\n",
    "\n",
    "if not os.getenv(\"OPENAI_API_KEY\"):\n",
    "    print(\"ADVARSEL: OPENAI_API_KEY er ikke satt som miljøvariabel.\")\n",
    "    print(\"Eksempelet vil sannsynligvis feile uten API-tilgang til en LLM.\")\n",
    "    # For en reell kjøring, ville man her kanskje avsluttet eller brukt en fallback."
   ]
  },
  {
   "cell_type": "markdown",
   "metadata": {},
   "source": [
    "### Agentdefinisjoner – Vårt KI-Team\n",
    "Vi definerer nå våre tre KI-agenter. Hver agent får en spesifikk role (rolle), et goal (mål), og en backstory (bakgrunnshistorie). Disse elementene er ikke bare beskrivende; de fungerer som avanserte instrukser (prompts) som former hvordan LLM-en utfører agentens oppgaver. En velutformet backstory er avgjørende for å instruere LLM-en til å adoptere en spesifikk faglig identitet og tilnærming, noe som direkte påvirker kvaliteten og relevansen av agentens output. Dette er spesielt viktig i spesialiserte domener som helse.   \n",
    "\n",
    "Vi setter verbose=True for å kunne følge agentenes \"tankeprosess\" under kjøring. allow_delegation=False betyr at agentene ikke kan delegere oppgaver til andre agenter i dette enkle scenarioet."
   ]
  },
  {
   "cell_type": "markdown",
   "metadata": {},
   "source": [
    "### Agent 1 - DataFortolkerAgent\n",
    "\n",
    "Denne agenten vil 'lese' pasientprofilen og trekke ut det viktigste for tilpasning, med referanser til relevante arbeidspakker i eHjerteRehab."
   ]
  },
  {
   "cell_type": "code",
   "execution_count": 2,
   "metadata": {},
   "outputs": [],
   "source": [
    "data_fortolker_agent = Agent(\n",
    "    role='Senior HelseData Analytiker for Hjerterehabilitering',\n",
    "    goal=('Analysere en simulert pasientprofil for å identifisere 3-5 nøkkelinnsikter som er kritiske '\n",
    "          'for å skreddersy en digital rehabiliteringsplan. Fokusere på motivasjonsfaktorer, '\n",
    "          'potensielle barrierer, og individuelle preferanser.'),\n",
    "    backstory=(\n",
    "        \"Du er en erfaren dataanalytiker med doktorgrad i medisinsk informatikk, spesialisert på å \"\n",
    "        \"utlede handlingsrettet innsikt fra pasientdata innen kardiologi. Din ekspertise ligger i å \"\n",
    "        \"identifisere subtile mønstre som kan forbedre persontilpasset behandling og pasientengasjement i \"\n",
    "        \"digitale helseprogrammer som eHjerteRehab. Du er grundig, nøyaktig og opptatt av personvern, \"\n",
    "        \"og du forstår viktigheten av å vurdere faktorer som komorbiditet (jf. eHjerteRehab WP1.3) \"\n",
    "        \"og mental helse (jf. eHjerteRehab WP1.4) i din analyse.[1]\"\n",
    "    ),\n",
    "    verbose=True,\n",
    "    allow_delegation=False\n",
    ")"
   ]
  },
  {
   "cell_type": "markdown",
   "metadata": {},
   "source": [
    "### Agent 2 - AktivitetsDesignerAgent\n",
    "\n",
    "Denne agenten tar innsiktene og omgjør dem til konkrete aktivitetsforslag, med tanke på engasjement og helsekompetanse."
   ]
  },
  {
   "cell_type": "code",
   "execution_count": 3,
   "metadata": {},
   "outputs": [],
   "source": [
    "aktivitets_designer_agent = Agent(\n",
    "    role='Innovativ Rehabiliteringsspesialist med fokus på Digitalt Engasjement',\n",
    "    goal=('Basert på innsiktene fra DataFortolkerAgent, utvikle 2-3 konkrete, kreative og motiverende '\n",
    "          'forslag til persontilpassede rehabiliteringsaktiviteter for eHjerteRehab. Aktivitetene skal '\n",
    "          'være gjennomførbare hjemme og tilpasset pasientens antatte fysiske og mentale kapasitet.'),\n",
    "    backstory=(\n",
    "        \"Du er en fysioterapeut og rehabiliteringsforsker med en lidenskap for å integrere teknologi \"\n",
    "        \"og spillifisering i helsefremmende arbeid. Du har jobbet tett med utviklingen av eHjerteRehab \"\n",
    "        \"og forstår viktigheten av å gjøre rehabilitering både effektiv og engasjerende, samtidig som \"\n",
    "        \"du tar hensyn til pasientens helsekompetanse (jf. eHjerteRehab WP2.2).[1] Ditt mål er \"\n",
    "        \"å 'tenne gnisten' hos pasienten gjennom skreddersydde og motiverende aktiviteter.\"\n",
    "    ),\n",
    "    verbose=True,\n",
    "    allow_delegation=False\n",
    ")"
   ]
  },
  {
   "cell_type": "markdown",
   "metadata": {},
   "source": [
    "### Agent 3 - EtikkOgSamsvarsAgent\n",
    "\n",
    "Denne agenten fungerer som en 'etisk vokter' for å sikre ansvarlig praksis, i tråd med eHjerteRehabs WP2.5 Etikk"
   ]
  },
  {
   "cell_type": "code",
   "execution_count": 4,
   "metadata": {},
   "outputs": [],
   "source": [
    "etikk_og_samsvars_agent = Agent(\n",
    "    role='Ekspert på Medisinsk Etikk og Ansvarlig KI i Helsevesenet',\n",
    "    goal=('Kritisk vurdere de foreslåtte rehabiliteringsaktivitetene fra AktivitetsDesignerAgent. '\n",
    "          'Sikre at forslagene er i tråd med etiske retningslinjer for eHjerteRehab (jf. WP2.5 Etikk [1]), '\n",
    "          'respekterer pasientautonomi, unngår utilsiktet bias, og ivaretar personvern. '\n",
    "          'Gi konkret tilbakemelding og eventuelle justeringsforslag.'),\n",
    "    backstory=(\n",
    "        \"Du er en etiker med juridisk bakgrunn og spesialkompetanse på GDPR og KI-regulering i helsesektoren. \"\n",
    "        \"Du er tilknyttet eHjerteRehabs ekspertgruppe og Scientific Advisory Board [1] \"\n",
    "        \"og har som hovedoppgave å sikre at alle digitale intervensjoner er \"\n",
    "        \"etisk forsvarlige, rettferdige og trygge for pasientene. Du er grundig og prinsippfast, \"\n",
    "        \"men også løsningsorientert, og legger vekt på kontinuitet i helsetjenesten (jf. eHjerteRehab WP2.1).[1]\"\n",
    "    ),\n",
    "    verbose=True,\n",
    "    allow_delegation=False\n",
    ")"
   ]
  },
  {
   "cell_type": "markdown",
   "metadata": {},
   "source": [
    "### Oppgavedefinisjoner – Hva Skal Agentene Gjøre?\n",
    "\n",
    "Nå definerer vi oppgavene (Task) som agentene skal utføre. Hver oppgave har en description (beskrivelse av hva som skal gjøres), en expected_output (forventet format og innhold på resultatet), og tildeles en agent.   \n",
    "\n",
    "Å definere expected_output tydelig er kritisk. Det styrer agentens atferd og sikrer at outputen er strukturert og anvendelig for påfølgende oppgaver eller for menneskelig tolkning. Dette reduserer \"støy\" og øker effektiviteten i agent-samarbeidet.\n",
    "\n",
    "Vi vil bruke en fiktiv, men relevant, pasientprofil som input til den første oppgaven.\n"
   ]
  },
  {
   "cell_type": "markdown",
   "metadata": {},
   "source": [
    "### Fiktiv Pasientprofil for \"Ola Nordmann\" (67 år)\n",
    "\n",
    "- Medisinsk Historikk: Gjennomgått PCI for 3 uker siden etter et hjerteinfarkt. Har også kjent hypertensjon og diabetes type 2 (moderat regulert). Lett overvektig.\n",
    "\n",
    "- Livsstil: Stillesittende kontorjobb før pensjonsalder (nylig pensjonert). Røyket tidligere, men sluttet for 5 år siden. Moderat alkoholforbruk i helgene. Bor alene i enebolig med hage, et stykke utenfor sentrum.\n",
    "\n",
    "- Psykososialt: Uttrykker bekymring for fremtiden og er redd for nytt infarkt. Føler seg litt isolert etter pensjonering. Motivasjon for trening er \"så som så\", men han liker å være ute i naturen og \"pusle med ting\". Teknologisk kompetanse: Bruker smarttelefon og nettbrett til enkle ting (nyheter, e-post), men er ikke veldig dreven.\n",
    "\n",
    "- Rehabiliteringsmål (fra samtale): Ønsker å \"komme i bedre form\", \"føle seg tryggere\", og \"ha noe meningsfylt å gjøre\".\n",
    "\n",
    "Denne profilen gir nok detaljer til at agentene kan jobbe med den. I eHjerteRehab vil reelle data være mer omfattende og dynamiske.   \n",
    "\n"
   ]
  },
  {
   "cell_type": "markdown",
   "metadata": {},
   "source": [
    "### Oppgave 1 - AnalyserPasientprofil\n"
   ]
  },
  {
   "cell_type": "code",
   "execution_count": 5,
   "metadata": {},
   "outputs": [],
   "source": [
    "pasientprofil_tekst = \"\"\"\n",
    "Medisinsk Historikk: Gjennomgått PCI for 3 uker siden etter et hjerteinfarkt. Har også kjent hypertensjon og diabetes type 2 (moderat regulert). Lett overvektig.\n",
    "Livsstil: Stillesittende kontorjobb før pensjonsalder (nylig pensjonert). Røyket tidligere, men sluttet for 5 år siden. Moderat alkoholforbruk i helgene. Bor alene i enebolig med hage, et stykke utenfor sentrum.\n",
    "Psykososialt: Uttrykker bekymring for fremtiden og er redd for nytt infarkt. Føler seg litt isolert etter pensjonering. Motivasjon for trening er \"så som så\", men han liker å være ute i naturen og \"pusle med ting\". Teknologisk kompetanse: Bruker smarttelefon og nettbrett til enkle ting (nyheter, e-post), men er ikke veldig dreven.\n",
    "Rehabiliteringsmål (fra samtale): Ønsker å \"komme i bedre form\", \"føle seg tryggere\", og \"ha noe meningsfylt å gjøre\".\n",
    "\"\"\"\n",
    "\n",
    "task_analyser_profil = Task(\n",
    "    description=(f\"Analyser følgende simulerte pasientprofil for 'Ola Nordmann' (67 år):\\n\\n{pasientprofil_tekst}\\n\\n\"\n",
    "                 \"Identifiser 3-5 nøkkelinnsikter som er avgjørende for å persontilpasse hans eHjerteRehab-program. \"\n",
    "                 \"Fokuser på motivasjonsdrivere, potensielle barrierer (fysiske, psykososiale, teknologiske), \"\n",
    "                 \"og hans uttrykte mål og preferanser. Vurder spesielt hans komorbiditeter (hypertensjon, diabetes) \"\n",
    "                 \"og hvordan disse kan påvirke rehabiliteringsplanen, i tråd med fokus i eHjerteRehab WP1.3.[1]\"),\n",
    "    expected_output=(\"En punktliste med 3-5 klare og konsise nøkkelinnsikter, hver med en kort begrunnelse. \"\n",
    "                     \"Innsiktene skal være direkte anvendbare for neste agent som skal designe aktiviteter.\"),\n",
    "    agent=data_fortolker_agent\n",
    ")"
   ]
  },
  {
   "cell_type": "markdown",
   "metadata": {},
   "source": [
    "### Oppgave 2 - UtformAktivitetsforslag\n",
    "\n",
    "Bruken av `context=[task_analyser_profil]`  er fundamental. Det skaper en logisk arbeidsflyt der `AktivitetsDesignerAgent` bygger direkte på arbeidet til `DataFortolkerAgent`. Dette simulerer informasjonsdeling i et team og er kjernen i hvordan CrewAI muliggjør samarbeid."
   ]
  },
  {
   "cell_type": "code",
   "execution_count": 6,
   "metadata": {},
   "outputs": [],
   "source": [
    "task_utform_aktiviteter = Task(\n",
    "    description=(\"Basert på nøkkelinnsiktene fra analysen av Ola Nordmanns pasientprofil (levert som kontekst), \"\n",
    "                 \"utvikle 2-3 konkrete, persontilpassede og motiverende aktivitetselementer for hans eHjerteRehab-program. \"\n",
    "                 \"Aktivitetene bør være trygge med tanke på hans medisinske historikk (PCI, hypertensjon, diabetes). \"\n",
    "                 \"Inkluder en kort begrunnelse for hvert forslag som knytter det til pasientens profil (f.eks. hans interesse for natur, \"\n",
    "                 \"behov for trygghet, teknologiske ferdigheter – husk eHjerteRehabs fokus på brukervennlighet og tilpasset informasjon [1]).\"),\n",
    "    expected_output=(\"En liste med 2-3 detaljerte aktivitetselementer. Hvert element skal inneholde: \\n\"\n",
    "                     \"1. Navn på aktiviteten.\\n\"\n",
    "                     \"2. En kort, engasjerende beskrivelse av aktiviteten.\\n\"\n",
    "                     \"3. En begrunnelse for hvorfor denne aktiviteten passer for Ola, med referanse til hans profil.\\n\"\n",
    "                     \"4. Eventuelle forslag til enkel teknologisk støtte (f.eks. påminnelser på telefon, enkel app-funksjon \"\n",
    "                     \"som er i tråd med eHjerteRehabs teknologiske plattform [1]).\"),\n",
    "    agent=aktivitets_designer_agent,\n",
    "    context=[task_analyser_profil]  # Output fra forrige task blir input her\n",
    ")\n"
   ]
  },
  {
   "cell_type": "markdown",
   "metadata": {},
   "source": [
    "###  Oppgave 3 - EtiskVurderingAvForslag"
   ]
  },
  {
   "cell_type": "code",
   "execution_count": 7,
   "metadata": {},
   "outputs": [],
   "source": [
    "task_etisk_vurdering = Task(\n",
    "    description=(\"Gjennomgå de foreslåtte rehabiliteringsaktivitetene for Ola Nordmann (levert som kontekst). \"\n",
    "                 \"Vurder dem kritisk i lys av prinsipper for ansvarlig KI og medisinsk etikk, spesielt med tanke på: \\n\"\n",
    "                 \"- Pasientautonomi og informert samtykke (selv om dette er simulert).\\n\"\n",
    "                 \"- Potensial for utilsiktet bias eller diskriminering (jf. eHjerteRehabs mål om å nå underrepresenterte grupper [1]).\\n\"\n",
    "                 \"- Personvernsaspekter ved datainnsamling knyttet til aktivitetene (eHjerteRehab bruker BankID og sikker kommunikasjon [1]).\\n\"\n",
    "                 \"- Rettferdighet og likeverdighet i tilbudet.\\n\"\n",
    "                 \"- Sikkerhet og potensiell risiko for pasienten (fysisk og psykisk).\\n\"\n",
    "                 \"Dette arbeidet speiler intensjonen bak eHjerteRehabs WP2.5 Etikk.[1] \"\n",
    "                 \"Gi en konkret tilbakemelding. Hvis det er etiske betenkeligheter, foreslå justeringer eller forbehold.\"),\n",
    "    expected_output=(\"En strukturert rapport som inneholder:\\n\"\n",
    "                     \"1. En overordnet etisk vurdering av aktivitetsforslagene.\\n\"\n",
    "                     \"2. Identifisering av eventuelle etiske dilemmaer eller risikofaktorer.\\n\"\n",
    "                     \"3. Konkrete anbefalinger for å styrke den etiske forsvarligheten av forslagene, om nødvendig.\\n\"\n",
    "                     \"4. En konklusjon om hvorvidt forslagene, med eventuelle justeringer, er etisk akseptable for \"\n",
    "                     \"bruk i en eHjerteRehab-kontekst.\"),\n",
    "    agent=etikk_og_samsvars_agent,\n",
    "    context=[task_utform_aktiviteter]\n",
    ")"
   ]
  },
  {
   "cell_type": "markdown",
   "metadata": {},
   "source": [
    "###  Sette Sammen og Kjøre Crewet\n",
    "\n",
    "Nå setter vi sammen agentene og oppgavene i et `Crew`. Et `Crew` representerer den operasjonelle enheten som orkestrerer agentenes arbeid.\n",
    "Vi spesifiserer `process=Process.sequential`, som betyr at oppgavene utføres i den rekkefølgen de er listet.\n",
    "Deretter starter vi prosessen med `kickoff()`.   \n",
    "\n",
    "Innstillingen `verbose=2` er spesielt nyttig under utvikling og for demonstrasjoner som denne. Den gir detaljert innsyn i agentenes \"indre liv\" – deres resonnement, hvilke (potensielle) verktøy de vurderer, og hvordan de tolker oppgavene sine. Denne transparensen er verdifull for feilsøking, forbedring av agentdesign, og for å bygge forståelse for hvordan systemet fungerer. For et publikum bestående av helsepersonell og forskere, kan det å vise utdrag av slik verbose output være svært pedagogisk for å avmystifisere KI."
   ]
  },
  {
   "cell_type": "markdown",
   "metadata": {},
   "source": [
    "### Definere og Kjøre Crewet"
   ]
  },
  {
   "cell_type": "code",
   "execution_count": 8,
   "metadata": {},
   "outputs": [
    {
     "ename": "ValidationError",
     "evalue": "1 validation error for Crew\nverbose\n  Input should be a valid boolean, unable to interpret input [type=bool_parsing, input_value=2, input_type=int]\n    For further information visit https://errors.pydantic.dev/2.11/v/bool_parsing",
     "output_type": "error",
     "traceback": [
      "\u001b[0;31m---------------------------------------------------------------------------\u001b[0m",
      "\u001b[0;31mValidationError\u001b[0m                           Traceback (most recent call last)",
      "Cell \u001b[0;32mIn[8], line 2\u001b[0m\n\u001b[1;32m      1\u001b[0m \u001b[38;5;66;03m# Definere crewet med agentene og oppgavene\u001b[39;00m\n\u001b[0;32m----> 2\u001b[0m eHjerteRehab_crew \u001b[38;5;241m=\u001b[39m \u001b[43mCrew\u001b[49m\u001b[43m(\u001b[49m\n\u001b[1;32m      3\u001b[0m \u001b[43m    \u001b[49m\u001b[43magents\u001b[49m\u001b[38;5;241;43m=\u001b[39;49m\u001b[43m[\u001b[49m\u001b[43mdata_fortolker_agent\u001b[49m\u001b[43m,\u001b[49m\u001b[43m \u001b[49m\u001b[43maktivitets_designer_agent\u001b[49m\u001b[43m,\u001b[49m\u001b[43m \u001b[49m\u001b[43metikk_og_samsvars_agent\u001b[49m\u001b[43m]\u001b[49m\u001b[43m,\u001b[49m\n\u001b[1;32m      4\u001b[0m \u001b[43m    \u001b[49m\u001b[43mtasks\u001b[49m\u001b[38;5;241;43m=\u001b[39;49m\u001b[43m[\u001b[49m\u001b[43mtask_analyser_profil\u001b[49m\u001b[43m,\u001b[49m\u001b[43m \u001b[49m\u001b[43mtask_utform_aktiviteter\u001b[49m\u001b[43m,\u001b[49m\u001b[43m \u001b[49m\u001b[43mtask_etisk_vurdering\u001b[49m\u001b[43m]\u001b[49m\u001b[43m,\u001b[49m\n\u001b[1;32m      5\u001b[0m \u001b[43m    \u001b[49m\u001b[43mprocess\u001b[49m\u001b[38;5;241;43m=\u001b[39;49m\u001b[43mProcess\u001b[49m\u001b[38;5;241;43m.\u001b[39;49m\u001b[43msequential\u001b[49m\u001b[43m,\u001b[49m\u001b[43m  \u001b[49m\u001b[38;5;66;43;03m# Oppgavene utføres i rekkefølge\u001b[39;49;00m\n\u001b[1;32m      6\u001b[0m \u001b[43m    \u001b[49m\u001b[43mverbose\u001b[49m\u001b[38;5;241;43m=\u001b[39;49m\u001b[38;5;241;43m2\u001b[39;49m\u001b[43m  \u001b[49m\u001b[38;5;66;43;03m# Gir detaljert output om agentenes tankeprosess og handlinger\u001b[39;49;00m\n\u001b[1;32m      7\u001b[0m \u001b[43m)\u001b[49m\n\u001b[1;32m      9\u001b[0m \u001b[38;5;66;03m# Starte crewets arbeid\u001b[39;00m\n\u001b[1;32m     10\u001b[0m \u001b[38;5;66;03m# Inputs kan gis her hvis den første oppgaven trenger ekstern input\u001b[39;00m\n\u001b[1;32m     11\u001b[0m \u001b[38;5;66;03m# som ikke er hardkodet i beskrivelsen. I vårt tilfelle er\u001b[39;00m\n\u001b[1;32m     12\u001b[0m \u001b[38;5;66;03m# pasientprofilen allerede en del av task_analyser_profil.description.\u001b[39;00m\n\u001b[1;32m     13\u001b[0m \u001b[38;5;28mprint\u001b[39m(\u001b[38;5;124m\"\u001b[39m\u001b[38;5;124mStarter eHjerteRehab Crew...\u001b[39m\u001b[38;5;130;01m\\n\u001b[39;00m\u001b[38;5;124m\"\u001b[39m)\n",
      "File \u001b[0;32m/opt/anaconda3/envs/hjerterehab/lib/python3.10/site-packages/pydantic/main.py:253\u001b[0m, in \u001b[0;36mBaseModel.__init__\u001b[0;34m(self, **data)\u001b[0m\n\u001b[1;32m    251\u001b[0m \u001b[38;5;66;03m# `__tracebackhide__` tells pytest and some other tools to omit this function from tracebacks\u001b[39;00m\n\u001b[1;32m    252\u001b[0m __tracebackhide__ \u001b[38;5;241m=\u001b[39m \u001b[38;5;28;01mTrue\u001b[39;00m\n\u001b[0;32m--> 253\u001b[0m validated_self \u001b[38;5;241m=\u001b[39m \u001b[38;5;28;43mself\u001b[39;49m\u001b[38;5;241;43m.\u001b[39;49m\u001b[43m__pydantic_validator__\u001b[49m\u001b[38;5;241;43m.\u001b[39;49m\u001b[43mvalidate_python\u001b[49m\u001b[43m(\u001b[49m\u001b[43mdata\u001b[49m\u001b[43m,\u001b[49m\u001b[43m \u001b[49m\u001b[43mself_instance\u001b[49m\u001b[38;5;241;43m=\u001b[39;49m\u001b[38;5;28;43mself\u001b[39;49m\u001b[43m)\u001b[49m\n\u001b[1;32m    254\u001b[0m \u001b[38;5;28;01mif\u001b[39;00m \u001b[38;5;28mself\u001b[39m \u001b[38;5;129;01mis\u001b[39;00m \u001b[38;5;129;01mnot\u001b[39;00m validated_self:\n\u001b[1;32m    255\u001b[0m     warnings\u001b[38;5;241m.\u001b[39mwarn(\n\u001b[1;32m    256\u001b[0m         \u001b[38;5;124m'\u001b[39m\u001b[38;5;124mA custom validator is returning a value other than `self`.\u001b[39m\u001b[38;5;130;01m\\n\u001b[39;00m\u001b[38;5;124m'\u001b[39m\n\u001b[1;32m    257\u001b[0m         \u001b[38;5;124m\"\u001b[39m\u001b[38;5;124mReturning anything other than `self` from a top level model validator isn\u001b[39m\u001b[38;5;124m'\u001b[39m\u001b[38;5;124mt supported when validating via `__init__`.\u001b[39m\u001b[38;5;130;01m\\n\u001b[39;00m\u001b[38;5;124m\"\u001b[39m\n\u001b[1;32m    258\u001b[0m         \u001b[38;5;124m'\u001b[39m\u001b[38;5;124mSee the `model_validator` docs (https://docs.pydantic.dev/latest/concepts/validators/#model-validators) for more details.\u001b[39m\u001b[38;5;124m'\u001b[39m,\n\u001b[1;32m    259\u001b[0m         stacklevel\u001b[38;5;241m=\u001b[39m\u001b[38;5;241m2\u001b[39m,\n\u001b[1;32m    260\u001b[0m     )\n",
      "\u001b[0;31mValidationError\u001b[0m: 1 validation error for Crew\nverbose\n  Input should be a valid boolean, unable to interpret input [type=bool_parsing, input_value=2, input_type=int]\n    For further information visit https://errors.pydantic.dev/2.11/v/bool_parsing"
     ]
    }
   ],
   "source": [
    "# Definere crewet med agentene og oppgavene\n",
    "eHjerteRehab_crew = Crew(\n",
    "    agents=[data_fortolker_agent, aktivitets_designer_agent, etikk_og_samsvars_agent],\n",
    "    tasks=[task_analyser_profil, task_utform_aktiviteter, task_etisk_vurdering],\n",
    "    process=Process.sequential,  # Oppgavene utføres i rekkefølge\n",
    "    verbose=2  # Gir detaljert output om agentenes tankeprosess og handlinger\n",
    ")\n",
    "\n",
    "# Starte crewets arbeid\n",
    "# Inputs kan gis her hvis den første oppgaven trenger ekstern input\n",
    "# som ikke er hardkodet i beskrivelsen. I vårt tilfelle er\n",
    "# pasientprofilen allerede en del av task_analyser_profil.description.\n",
    "print(\"Starter eHjerteRehab Crew...\\n\")\n",
    "resultat = eHjerteRehab_crew.kickoff()\n",
    "print(\"\\nCrew-arbeid fullført.\")"
   ]
  },
  {
   "cell_type": "markdown",
   "metadata": {},
   "source": [
    "### Vise Resultatet\n",
    "\n",
    "Crewet har nå fullført sine oppgaver. Variabelen `resultat` inneholder det endelige outputtet fra den siste oppgaven i sekvensen, som i dette tilfellet er den etiske vurderingen fra `EtikkOgSamsvarsAgent`. Vi skriver ut dette resultatet."
   ]
  },
  {
   "cell_type": "markdown",
   "metadata": {},
   "source": [
    "### Skrive ut Resultatet\n",
    "\n",
    "Output fra `verbose=2` vil ha vist detaljer fra hver agent underveis i kjøringen. Det som skrives ut over er det konsoliderte sluttresultatet fra den siste agenten i kjeden."
   ]
  },
  {
   "cell_type": "code",
   "execution_count": null,
   "metadata": {},
   "outputs": [],
   "source": [
    "print(\"\\n\\n##################################################\")\n",
    "print(\"##### Endelig Resultat fra EtikkOgSamsvarsAgent #####\")\n",
    "print(\"##################################################\\n\")\n",
    "print(resultat)"
   ]
  },
  {
   "cell_type": "markdown",
   "metadata": {},
   "source": [
    "### Tolkning av Resultatene (Eksempel på Refleksjon)\n",
    "\n",
    "Når man gjennomgår `resultat` fra `EtikkOgSamsvarsAgent` (og den verbose loggen fra kjøringen), bør man vurdere følgende:\n",
    "\n",
    "- **DataFortolkerAgent**:\n",
    "   - Hvordan tolket agenten pasientprofilen til \"Ola Nordmann\"?\n",
    "   - Var de identifiserte nøkkelinnsiktene relevante og dekkende for hans situasjon (f.eks. isolasjon, naturinteresse, teknologisk kompetanse, komorbiditeter)?\n",
    "\n",
    "- **AktivitetsDesignerAgent**:\n",
    "   - Hvilke konkrete aktiviteter ble foreslått?\n",
    "   - Virker forslagene genuint persontilpassede og motiverende basert på Olas profil?\n",
    "   - Er de praktisk gjennomførbare hjemme og teknologisk tilpasset hans nivå?\n",
    "\n",
    "- **EtikkOgSamsvarsAgent**:\n",
    "   - Hva var den overordnede etiske konklusjonen?\n",
    "   - Ble det identifisert noen spesifikke etiske dilemmaer eller risikofaktorer (f.eks. knyttet til hans sårbarhet, personvern, eller rettferdighet)?\n",
    "   - Var anbefalingene for justeringer (hvis noen) fornuftige og gjennomførbare?\n",
    "\n",
    "Dette forenklede eksempelet, selv med simulerte data, illustrerer potensialet for KI-støttet persontilpasning og hvordan en strukturert tilnærming til ansvarlig praksis kan integreres. Slike systemer kan potensielt bidra til flere av eHjerteRehabs sentrale mål, som å tilby \"mer sammenhengende og skreddersydde pasientforløp\", styrke \"pasienten si evne til å ta styring over eiga helse\", og bidra til å \"redusera variasjon i kvalitet og tilgjengelegheit til hjarterehabilitering\". "
   ]
  },
  {
   "cell_type": "markdown",
   "metadata": {},
   "source": [
    "### Begrensninger ved Eksempelet og Veien Videre\n",
    "\n",
    "Det er viktig å anerkjenne begrensningene ved denne demonstrasjonen. En åpen diskusjon om disse er avgjørende for å bygge troverdighet og sette realistiske forventninger, spesielt overfor et fagkyndig publikum. Dette viser en moden forståelse for teknologiens nåværende kapabiliteter og utfordringer.\n",
    "\n",
    "**Begrensninger:**\n",
    "\n",
    "- **Fiktiv og Statisk Data**: Eksempelet bruker en kort, fiktiv pasientprofil. Reelle pasientdata er langt mer komplekse, dynamiske, og sensitive.\n",
    "\n",
    "- **Mangel på Reelle Verktøy**: Agentene har ingen reelle \"tools\"  (f.eks. tilgang til medisinske databaser, kunnskapsbaser for retningslinjer, eller integrasjon med eHjerteRehab-plattformens faktiske funksjoner).   \n",
    "- Ingen Menneskelig Intervensjon: Dette er en enkelt, autonom kjøring uten mulighet for menneskelig feedback eller justering underveis i prosessen.\n",
    "\n",
    "- **LLM-pålitelighet**: Store språkmodeller kan \"hallusinere\" (generere feilaktig informasjon) eller gi unøyaktige svar. Grundig validering, testing, og kvalitetssikring er absolutt nødvendig i reelle helseapplikasjoner.\n",
    "\n",
    "- **Etisk kompleksitet**: Reelle etiske vurderinger er dypere og mer nyanserte enn det en KI-agent alene kan håndtere i dag.\n",
    "\n",
    "**Veien Videre for Mer Komplekse Implementasjoner i eHjerteRehab:**\n",
    "\n",
    "Å koble den videre utviklingen av KI-løsninger direkte til eHjerteRehabs eksisterende struktur og prinsipper er essensielt. KI-utvikling bør ikke skje i et vakuum, men som en integrert del av prosjektets overordnede strategi og samarbeidsmodell.\n",
    "\n",
    "- **Integrasjon med Reelle Systemer**: Utforske sikker integrasjon med (anonymiserte/pseudonymiserte) pasientdata og journalsystemer, underlagt de strengeste personvernhensyn og regulatoriske krav.\n",
    "\n",
    "- **Utvikling av Spesialiserte Verktøy**: Lage domenespesifikke verktøy for agentene, f.eks. for å hente oppdatert informasjon fra eHjerteRehab-plattformen, søke i medisinske retningslinjer, eller analysere strukturerte data.\n",
    "\n",
    "- **Menneskelig Tilsyn og Kontroll (\"Human-in-the-Loop\")**: Implementere robuste mekanismer for menneskelig overvåkning, validering og overstyring av KI-genererte forslag og beslutninger.\n",
    "\n",
    "- **Iterativ Utvikling og Validering**: En syklisk prosess med design, utvikling, testing og validering i tett samarbeid med klinikere, etikere, og ikke minst pasienter. Dette er helt i tråd med eHjerteRehabs etablerte praksis med en \"Brukargruppe\" og \"Ekspertgruppe\" , som sikrer at løsningene møter reelle behov og er etisk forankret.   \n",
    "\n",
    "- **Forskning på Forklarbarhet (XAI)**: Videre arbeid med å gjøre KI-systemers beslutningsprosesser mer transparente og forståelige for både helsepersonell og pasienter.\n"
   ]
  },
  {
   "cell_type": "markdown",
   "metadata": {},
   "source": [
    "### Avsluttende Kommentarer\n",
    "\n",
    "Dette Jupyter Notebook-eksempelet har gitt en forenklet smakebit på hvordan KI-agenter, her representert ved CrewAI-rammeverket, kan struktureres for å støtte komplekse, tverrfaglige oppgaver i helsevesenet, slik som persontilpasning av rehabiliteringsforløp.\n",
    "\n",
    "\n",
    "Potensialet for KI innenfor prosjekter som eHjerteRehab er betydelig, men realiseringen av dette potensialet avhenger kritisk av en tilnærming preget av ansvarlighet, etisk bevissthet, og tett samarbeid mellom alle involverte parter. Nøkkelen ligger i å utvikle og implementere KI-systemer som er trygge, rettferdige, transparente, og som reelt sett forbedrer pasientbehandling og -opplevelse. eHjerteRehab-prosjektet, med sin solide forankring i forskning, tverrfaglighet og brukerinvolvering , er godt rustet til å navigere i dette spennende, men også krevende, landskapet."
   ]
  },
  {
   "cell_type": "code",
   "execution_count": null,
   "metadata": {},
   "outputs": [],
   "source": []
  }
 ],
 "metadata": {
  "kernelspec": {
   "display_name": "hjerterehab",
   "language": "python",
   "name": "python3"
  },
  "language_info": {
   "codemirror_mode": {
    "name": "ipython",
    "version": 3
   },
   "file_extension": ".py",
   "mimetype": "text/x-python",
   "name": "python",
   "nbconvert_exporter": "python",
   "pygments_lexer": "ipython3",
   "version": "3.10.17"
  }
 },
 "nbformat": 4,
 "nbformat_minor": 2
}
